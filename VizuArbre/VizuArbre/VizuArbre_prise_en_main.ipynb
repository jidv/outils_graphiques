{
 "cells": [
  {
   "cell_type": "markdown",
   "metadata": {},
   "source": [
    "Ce notebook nécessite de disposer du logiciel [graphviz](https://graphviz.org/download/) ainsi que du module graphviz pour python (`pip install graphviz`)."
   ]
  },
  {
   "cell_type": "markdown",
   "metadata": {},
   "source": [
    "# I : Premiers exemples d'utilisation de l'afficheur pour les arbres\n",
    "\n",
    "L'afficheur doit pouvoir s'adapter à plusieurs implémentations d'une classe `Arbre Binaire` et en particulier à votre implémentation pour laquelle vous avez effectué des choix quant à son **interface**. Choix que l'afficheur ne peut pas deviner tout seul alors même qu'il doit parcourir votre arbre pour le dessiner. \n",
    "\n",
    "Il est donc nécessaire d'adapter l'en-tête du module `vizu_arbreb` à l'**interface** de l'implémentation que vous avez choisie en précisant à l'afficheur comment :\n",
    "- accéder à l'étiquette et aux sous-arbres droit et gauche des arbres,\n",
    "- se passe le test de l'arbre vide\n",
    "\n",
    "Voici un exemple sur une classe d'arbres binaires. Un deuxième exemple est donné en bas de notebook."
   ]
  },
  {
   "cell_type": "markdown",
   "metadata": {},
   "source": [
    "# I : Premiers exemples d'utilisation de l'afficheur pour les arbres"
   ]
  },
  {
   "cell_type": "markdown",
   "metadata": {},
   "source": [
    "## I.1 : Classe utilisée : avec getters et implémentation de l'arbre vide"
   ]
  },
  {
   "cell_type": "code",
   "execution_count": null,
   "metadata": {},
   "outputs": [],
   "source": [
    "class BTree:\n",
    "    def __init__(self, *etiquette_et_sous_arbres):\n",
    "        assert len(etiquette_et_sous_arbres) in (0, 3)\n",
    "        if len(etiquette_et_sous_arbres) == 0:\n",
    "            self.noeud = None\n",
    "        else:\n",
    "            gauche = etiquette_et_sous_arbres[1]\n",
    "            droite = etiquette_et_sous_arbres[2]\n",
    "            self.noeud = Noeud(etiquette_et_sous_arbres[0], gauche, droite)\n",
    "    \n",
    "    def est_vide(self):\n",
    "        return self.noeud is None\n",
    "            \n",
    "    def get_etiquette(self):\n",
    "        assert not self.est_vide()\n",
    "        return self.noeud.get_etiquette()\n",
    "    \n",
    "    def get_gauche(self):\n",
    "        assert not self.est_vide()\n",
    "        return self.noeud.get_gauche()\n",
    "    \n",
    "    def get_droite(self):\n",
    "        assert not self.est_vide()\n",
    "        return self.noeud.get_droite()\n",
    "\n",
    "class Noeud:\n",
    "    def __init__(self, etiquette, sag, sad):      \n",
    "        self.etiquette = etiquette\n",
    "        self.sag = sag\n",
    "        self.sad = sad\n",
    "        \n",
    "    def get_etiquette(self):\n",
    "        return self.etiquette\n",
    "    \n",
    "    def get_gauche(self):\n",
    "        return self.sag\n",
    "    \n",
    "    def get_droite(self):\n",
    "        return self.sad"
   ]
  },
  {
   "cell_type": "code",
   "execution_count": null,
   "metadata": {},
   "outputs": [],
   "source": [
    "b = BTree(77, \n",
    "          BTree(55, \n",
    "                BTree(33, BTree(), BTree()), \n",
    "                BTree(44, BTree(), BTree())), \n",
    "          BTree(9, \n",
    "                BTree(99, BTree(), BTree()), BTree()))\n",
    "\n",
    "b.get_gauche().get_droite().get_etiquette()"
   ]
  },
  {
   "cell_type": "code",
   "execution_count": null,
   "metadata": {},
   "outputs": [],
   "source": [
    "b.est_vide()"
   ]
  },
  {
   "cell_type": "markdown",
   "metadata": {},
   "source": [
    "## I.2 : En-tête du module"
   ]
  },
  {
   "cell_type": "markdown",
   "metadata": {},
   "source": [
    "Cette classe d'arbre binaire :\n",
    "- implémente un accès aux attributs via les méthodes getters `get_gauche(), get_droite()` et `get_etiquette()`.\n",
    "- implémente l'arbre vide qui est une instance de la classe `BTree` et pour lequel la méthode de test est `est_vide()`\n",
    "\n",
    "Il faut donc paramétrer l'en-tête du module de la façon suivante :\n",
    "\n",
    "```\n",
    "JUPYTER_NOTEBOOK = True\n",
    "\n",
    "ACCES_VIA_GETTERS = True\n",
    "ACCES_E = \"get_etiquette\"\n",
    "ACCES_G = \"get_gauche\"\n",
    "ACCES_D = \"get_droite\"\n",
    "\n",
    "ARBRE_VIDE_IS_ARBRE = True\n",
    "ACCES_V  = \"est_vide\"\n",
    "```\n",
    "\n",
    "Vous pouvez aller vérifier que c'est bien ainsi qu'est paramétré l'en-tête du module`vizu_arbreb.py`.\n",
    "\n",
    "On peut alors facilement dessiner l'arbre `a` défini ci-dessus avec cette classe (si vous avez déjà importé le module auparavant, n'oubliez pas de redémarrer le Kernel pour le ré-importer à nouveau) :"
   ]
  },
  {
   "cell_type": "code",
   "execution_count": null,
   "metadata": {},
   "outputs": [],
   "source": [
    "from vizu_arbreb import VizuArbreB\n",
    "\n",
    "v = VizuArbreB(b)"
   ]
  },
  {
   "cell_type": "markdown",
   "metadata": {},
   "source": [
    "`v` pourra être utilisé ensuite pour redessiner ou enregistrer le graphe."
   ]
  },
  {
   "cell_type": "markdown",
   "metadata": {},
   "source": [
    "## I.3 : modification a posteriori des paramètres de dessin par défaut\n",
    "\n",
    "On peut modifier *a posteriori* les paramètres de dessin par défaut grâce à la méthode `modifier`. Voici un exemple avec tous les paramètres accessibles."
   ]
  },
  {
   "cell_type": "code",
   "execution_count": null,
   "metadata": {},
   "outputs": [],
   "source": [
    "v.modifier(label = 'Blah',\n",
    "            #size = '1',                   #à décommenter pour voir\n",
    "            moteur = 'neato',              #pour les arbres binaires garder 'dot' !\n",
    "            node_shape = 'rect',\n",
    "            node_width = 0.35,\n",
    "            node_height = 0.25,\n",
    "            node_color = (0.7, 0.2, 1),\n",
    "            node_fontsize = 12,\n",
    "           #node_small_fontsize = 8,    #ici pas d'étiquette secondaire : sans effet)\n",
    "            node_style = 'bold',          #à décommenter pour voir\n",
    "            edge_style = 'dotted',\n",
    "            edge_arrowhead = 'normal',\n",
    "            edge_arrowsize = 0.25,\n",
    "            reset = 'False')"
   ]
  },
  {
   "cell_type": "markdown",
   "metadata": {},
   "source": [
    "Pour plus de détails :"
   ]
  },
  {
   "cell_type": "code",
   "execution_count": null,
   "metadata": {},
   "outputs": [],
   "source": [
    "help(VizuArbreB.modifier)"
   ]
  },
  {
   "cell_type": "markdown",
   "metadata": {},
   "source": [
    "Pour la suite du notebook on utilisera cette classe `BTree`."
   ]
  },
  {
   "cell_type": "markdown",
   "metadata": {},
   "source": [
    "## I.4 : Export des graphiques\n",
    "\n",
    "Les graphiques peuvent être exportés dans différents formats, y compris en vectoriel. Voici quelques formats d'export pris en charge par graphviz :\n",
    "- `svg`\n",
    "- `png`\n",
    "- `pdf`\n",
    "- `tiff`\n",
    "- `jpg`\n",
    "- `ps` \n",
    "\n",
    "On pourra consulter https://graphviz.org/doc/info/output.html pour plus d'informations.\n",
    "\n",
    "**Remarque :** l'export produit également, en plus du fichier graphique, un fichier texte au format `graphviz` (sans extension, mais on pourra utilement rajouter l'extension `.gv`). "
   ]
  },
  {
   "cell_type": "code",
   "execution_count": null,
   "metadata": {},
   "outputs": [],
   "source": [
    "v.enregistrer(nom_fichier = 'mon_premier_export', format_image = 'png')"
   ]
  },
  {
   "cell_type": "markdown",
   "metadata": {},
   "source": [
    "Plus de détails :"
   ]
  },
  {
   "cell_type": "code",
   "execution_count": null,
   "metadata": {},
   "outputs": [],
   "source": [
    "help(VizuArbreB.enregistrer)"
   ]
  },
  {
   "cell_type": "markdown",
   "metadata": {},
   "source": [
    "# II : Différencier l'aspect des noeuds entre eux"
   ]
  },
  {
   "cell_type": "markdown",
   "metadata": {},
   "source": [
    "Il parait intéressant de pouvoir disposer d'un arbre étiqueté et de :\n",
    "- pouvoir afficher une information en plus sur chaque noeud (par exemple le numéro d'ordre lors d'un parcours),\n",
    "- pouvoir modifier la couleur des noeuds,\n",
    "- pouvoir modifier la forme des noeuds,\n",
    "\n",
    "**Remarque: limitation dans le cas d'étiquettes identiques**  \n",
    "L'association `couleur <--> noeud` ou `information supplémentaire <--> noeud` est effectuée en se basant sur l'étiquette des noeuds. S'il existe des noeuds distincts portant la même étiquette, ils se verront attribuer la même couleur ou la même information supplémentaire.  \n",
    "\n",
    "Partons de cet exemple :"
   ]
  },
  {
   "cell_type": "code",
   "execution_count": null,
   "metadata": {},
   "outputs": [],
   "source": [
    "from vizu_arbreb import VizuArbreB\n",
    "\n",
    "c = BTree('T', \n",
    "          BTree('A', \n",
    "                BTree('B', BTree(), BTree()), \n",
    "                BTree('C', BTree(), BTree())), \n",
    "          BTree('X', \n",
    "                BTree('Y', BTree(), BTree()), \n",
    "                BTree('Z', BTree(), BTree())))\n",
    "\n",
    "mon_visualisateur = VizuArbreB(c)"
   ]
  },
  {
   "cell_type": "markdown",
   "metadata": {},
   "source": [
    "## II.1 : Indiquer des informations individuelles secondaires sur les noeuds"
   ]
  },
  {
   "cell_type": "markdown",
   "metadata": {},
   "source": [
    "Elles sont rajoutées par l'intermédiaire d'un dictionnaire passé en paramètre. En pratique, ce dictionnaire a vocation à être généré lors d'un parcours de l'arbre. Un exemple est donné dans le notebook \"Exemples d'application\". Ici on se contente d'un cas fait à la main."
   ]
  },
  {
   "cell_type": "code",
   "execution_count": null,
   "metadata": {},
   "outputs": [],
   "source": [
    "infos_en_plus = {'T': 0,\n",
    "                 'A': 1,\n",
    "                 'B': 2,\n",
    "                 'C': 3,\n",
    "                 'X': ' ?'}\n",
    "mon_visualisateur = VizuArbreB(c, etiquettes_secondaires = infos_en_plus)"
   ]
  },
  {
   "cell_type": "markdown",
   "metadata": {},
   "source": [
    "## II.2 : Utiliser des couleurs individuelles sur les noeuds"
   ]
  },
  {
   "cell_type": "markdown",
   "metadata": {},
   "source": [
    "Elles sont indiquées par l'intermédiaire d'un dictionnaire passé en paramètre. En pratique, ce dictionnaire a vocation à être généré lors d'un parcours de l'arbre. Un exemple est donné dans le notebook \"Exemples d'application\". Ici on se contente d'un cas fait à la main.\n",
    "\n",
    "Les couleurs doivent être au format HSV https://fr.wikipedia.org/wiki/Teinte_Saturation_Valeur  \n",
    "L'intérêt de ce format (discutable) est qu'en jouant uniquement sur le paramètre `H`, on parcourt toutes les couleurs de l'arc en ciel."
   ]
  },
  {
   "cell_type": "code",
   "execution_count": null,
   "metadata": {},
   "outputs": [],
   "source": [
    "infos_en_plus = {'T': 0,\n",
    "                 'A': 1,\n",
    "                 'B': 2,\n",
    "                 'C': 3,\n",
    "                 'X': ' ?'}\n",
    "\n",
    "    \n",
    "mes_couleurs = {'T':(1.0, 1, 1),\n",
    "                'A':(0.8, 1, 1),\n",
    "                'B':(0.6, 1, 1),\n",
    "                'C':(0.4, 1, 1),\n",
    "                'X':(0.2, 1, 1),\n",
    "                'Y':(0.0, 1, 1)}\n",
    "\n",
    "\n",
    "mon_visualisateur = VizuArbreB(c, etiquettes_secondaires = infos_en_plus,\n",
    "                                  couleurs = mes_couleurs)\n"
   ]
  },
  {
   "cell_type": "markdown",
   "metadata": {},
   "source": [
    "## II.3 : Utiliser des formes individuelles sur les noeuds"
   ]
  },
  {
   "cell_type": "markdown",
   "metadata": {},
   "source": [
    "Elles sont indiquées par l'intermédiaire d'un dictionnaire passé en paramètre `formes`. En pratique, ce dictionnaire a vocation à être généré lors d'un parcours de l'arbre. Un exemple est donné dans le notebook \"Exemples d'application\". Ici on se contente d'un cas fait à la main.\n",
    "\n",
    "Les forment doivent être choisies parmi 'box', 'polygon', 'ellipse', 'oval', 'circle', 'folder', 'house' \n",
    "'egg', 'triangle' etc.  \n",
    "Voir ici si besoin : https://graphviz.org/doc/info/shapes.html"
   ]
  },
  {
   "cell_type": "code",
   "execution_count": null,
   "metadata": {},
   "outputs": [],
   "source": [
    "mes_formes = {'T':'folder',\n",
    "              'A':'house',\n",
    "              #'B':'0', pas d'informations en plus pour le sommet 'B' ...\n",
    "              'Y':'star',\n",
    "              'Z':'triangle'}\n",
    "\n",
    "mon_visualisateur = VizuArbreB(c, formes = mes_formes)"
   ]
  },
  {
   "cell_type": "markdown",
   "metadata": {},
   "source": [
    "## II.4 : Modifier a posteriori les informations sur les sommets\n",
    "\n",
    "Alors que les modifications par défaut vues au I.3 s'appliquent à tous les sommets, il est aussi possible de modifier les informations individuelles a posteriori toujours grâce à la méthode `modifier` pour les attributs vus au II /\n",
    "- `etiquettes_secondaires` \n",
    "- `couleurs` \n",
    "- `formes` "
   ]
  },
  {
   "cell_type": "code",
   "execution_count": null,
   "metadata": {},
   "outputs": [],
   "source": [
    "mes_couleurs = {'A':(1.00, 0.2, 0.75),\n",
    "                'Y':(0.60, 0.2, 0.75),\n",
    "                'X':(0.40, 0.2, 0.75),\n",
    "                'B':(0.20, 0.2, 0.75)}\n",
    "\n",
    "mon_visualisateur.modifier(couleurs = mes_couleurs)"
   ]
  },
  {
   "cell_type": "markdown",
   "metadata": {},
   "source": [
    "## III. Adaptation de l'en-tête du module : un autre exemple\n",
    "\n",
    "On souhaite modifier l'en-tête du module à cette interface d'arbe binaire :"
   ]
  },
  {
   "cell_type": "code",
   "execution_count": null,
   "metadata": {},
   "outputs": [],
   "source": [
    "class ArbreB:\n",
    "    \n",
    "    def __init__(self, v, g, d):\n",
    "        self.v = v\n",
    "        self.g = g\n",
    "        self.d = d"
   ]
  },
  {
   "cell_type": "code",
   "execution_count": null,
   "metadata": {},
   "outputs": [],
   "source": [
    "a = ArbreB(77, \n",
    "          ArbreB(55, \n",
    "                ArbreB(33, None, None), \n",
    "                ArbreB(44, None, None)), \n",
    "          ArbreB(9, \n",
    "                ArbreB(99, None, None), None))\n",
    "\n",
    "a.g.d.v"
   ]
  },
  {
   "cell_type": "code",
   "execution_count": null,
   "metadata": {},
   "outputs": [],
   "source": [
    "a == None"
   ]
  },
  {
   "cell_type": "markdown",
   "metadata": {},
   "source": [
    "Cette classe d'arbre binaire :\n",
    "- implémente un accès direct aux attributs \"sous-arbre-gauche\", \"sous-arbre-droit\" et \"etiquette\" (pas de méthodes getters)\n",
    "- n'implémente pas l'arbre vide qui est représenté par `None` (l'arbre vide n'est **pas** implémenté comme une instance de la classe `ArbreB`).\n",
    "\n",
    "Il faut donc paramétrer l'en-tête du module de la façon suivante :\n",
    "\n",
    "```\n",
    "JUPYTER_NOTEBOOK = True\n",
    "\n",
    "ACCES_VIA_GETTERS= False\n",
    "ACCES_E = \"v\"\n",
    "ACCES_G = \"g\"\n",
    "ACCES_D = \"d\"\n",
    "\n",
    "ARBRE_VIDE_IS_ARBRE = False\n",
    "ACCES_V  = None\n",
    "```\n",
    "\n",
    "Ce que vous pouvez effectuer depuis Jupyter en éditant et modifiant le fichier `vizu_arbreb.py` (commentez/décommentez ce qu'il faut).\n",
    "\n",
    "On peut alors facilement dessiner l'arbre `a` défini ci-dessus :"
   ]
  },
  {
   "cell_type": "code",
   "execution_count": null,
   "metadata": {},
   "outputs": [],
   "source": [
    "from vizu_arbreb import VizuArbreB\n",
    "\n",
    "v = VizuArbreB(a)"
   ]
  },
  {
   "cell_type": "markdown",
   "metadata": {},
   "source": [
    "`v` pourra être utilisé ensuite pour redessiner ou enregistrer le graphe."
   ]
  }
 ],
 "metadata": {
  "kernelspec": {
   "display_name": "Python 3",
   "language": "python",
   "name": "python3"
  },
  "language_info": {
   "codemirror_mode": {
    "name": "ipython",
    "version": 3
   },
   "file_extension": ".py",
   "mimetype": "text/x-python",
   "name": "python",
   "nbconvert_exporter": "python",
   "pygments_lexer": "ipython3",
   "version": "3.8.2"
  }
 },
 "nbformat": 4,
 "nbformat_minor": 4
}

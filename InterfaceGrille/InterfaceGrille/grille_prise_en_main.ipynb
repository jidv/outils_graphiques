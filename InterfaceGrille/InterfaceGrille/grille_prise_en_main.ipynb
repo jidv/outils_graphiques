{
 "cells": [
  {
   "cell_type": "markdown",
   "metadata": {},
   "source": [
    "### fonctionnalités de ce module :\n",
    "- Représentation graphique en couleur de grilles à maillage carré en deux dimensions,\n",
    "- écoute d'évènements (sélection d'un objet, appui sur une touche du clavier),\n",
    "- sortie textuelle.\n",
    "\n",
    "\n",
    "# 0 : Détails techniques\n",
    "\n",
    "### Modules requis, utilisation via notebook ou via Idle\n",
    "- matplotlib\n",
    "- Ipython (module installé lors de l'installation de Jupyter, requis pour une utilisation dans Jupyter notebook)\n",
    "\n",
    "Ce module `interface_grille` a été écrit pour fonctionner dans des notebooks et sollicite donc Ipython. \n",
    "On importera uniquement la classe `Vue`:\n",
    "\n",
    "    from interface_grille import Vue\n",
    "\n",
    "Si vous utilisez un interpréteur python standard et que vous n'avez pas Ipython d'installé, cela fonctionne aussi. En revanche il faut au préalable mettre en commentaire l'import du module Ipython.display (dont vous n'aurez pas besoin) dans le fichier `interface_grille.py`. Il vous faudra peut-être aussi forcer l'utilisation du backend `TkAgg` en décommentant la ligne d'en-tête `mpl.use('TkAgg')` du fichier `interface_grille.py`."
   ]
  },
  {
   "cell_type": "markdown",
   "metadata": {},
   "source": [
    "### Barres de défilement (pour les notebooks uniquement)\n",
    "\n",
    "Pour empêcher l'apparition des barres de défilement dans les sorties des notebooks on peut exécuter l'instruction suivante :"
   ]
  },
  {
   "cell_type": "code",
   "execution_count": null,
   "metadata": {},
   "outputs": [],
   "source": [
    "%%javascript\n",
    "IPython.OutputArea.prototype._should_scroll = function(lines) {\n",
    "    return false;\n",
    "}"
   ]
  },
  {
   "cell_type": "markdown",
   "metadata": {},
   "source": [
    "### Mettre matplotlib en mode interactif (pour les notebooks uniquement)\n",
    "\n",
    "Pour que la vue matplotlib produite reste en écoute des instructions en provenance du programme et/ou puisse si besoin écouter les évènements, il faut que matplotlib soit en mode interactif (et pas en mode inline). Cela s'obtient en exécutant la celulle de code ci-dessous :"
   ]
  },
  {
   "cell_type": "code",
   "execution_count": null,
   "metadata": {},
   "outputs": [],
   "source": [
    "%matplotlib notebook"
   ]
  },
  {
   "cell_type": "markdown",
   "metadata": {},
   "source": [
    "# I : Premiers exemples de dessin sur la grille\n",
    "\n",
    "Dans ce qui suit on utilisera une grille de 4 x 6 cellules soit :\n",
    "- 4 x 6 fonds\n",
    "- 4 x 6 images\n",
    "- 4 x 6 textes\n",
    "- 4 x 7 murs verticaux\n",
    "- 5 x 6 murs horizontaux\n",
    "\n",
    "Le lecteur est censé se référer à la documentation ci-dessous pour consulter les attributs disponibles des différents objets graphiques (`fond`, `mur_h`, `mur_v`, `image` et `texte`)."
   ]
  },
  {
   "cell_type": "code",
   "execution_count": null,
   "metadata": {},
   "outputs": [],
   "source": [
    "from interface_grille import Vue\n",
    "help(Vue.__init__)\n",
    "help(Vue.modifier_grille)\n",
    "help(Vue.mg)"
   ]
  },
  {
   "cell_type": "code",
   "execution_count": null,
   "metadata": {},
   "outputs": [],
   "source": [
    "NB_LIG = 4\n",
    "NB_COL = 6\n",
    "vue_exemple = Vue(NB_LIG, NB_COL)"
   ]
  },
  {
   "cell_type": "markdown",
   "metadata": {},
   "source": [
    "#### Un peu de `fond` :"
   ]
  },
  {
   "cell_type": "code",
   "execution_count": null,
   "metadata": {},
   "outputs": [],
   "source": [
    "vue_exemple.modifier_grille('fond', 0, 0, couleur_ext = (0, 0, 0), couleur_int = (0, 255, 255), visible = True)\n",
    "vue_exemple.modifier_grille('fond', 3, 5, couleur_ext = (0, 0, 0), couleur_int = (255, 255, 0), visible = True)"
   ]
  },
  {
   "cell_type": "code",
   "execution_count": null,
   "metadata": {},
   "outputs": [],
   "source": [
    "for lig in range(NB_LIG):\n",
    "    for col in range(NB_COL):\n",
    "        vue_exemple.modifier_grille('fond', lig, col, couleur = (100, 0, 100), visible = True)"
   ]
  },
  {
   "cell_type": "code",
   "execution_count": null,
   "metadata": {},
   "outputs": [],
   "source": [
    "#on modifie dynamiquement les propriétés des objets affichés\n",
    "for lig in range(NB_LIG):\n",
    "    vue_exemple.modifier_grille('fond', lig, 3, alpha = 0.5)"
   ]
  },
  {
   "cell_type": "markdown",
   "metadata": {},
   "source": [
    "#### Un peu de `mur_h` et `mur_v` :"
   ]
  },
  {
   "cell_type": "code",
   "execution_count": null,
   "metadata": {},
   "outputs": [],
   "source": [
    "for lig in range(NB_LIG + 1):\n",
    "    for col in range(NB_COL):\n",
    "        vue_exemple.modifier_grille('mur_h', lig, col, couleur_int = (192, 192, 0), visible = True)\n",
    "        \n",
    "for lig in range(NB_LIG):\n",
    "    for col in range(NB_COL + 1):\n",
    "        vue_exemple.modifier_grille('mur_v', lig, col, couleur_int = (192, 192, 0), visible = True)"
   ]
  },
  {
   "cell_type": "code",
   "execution_count": null,
   "metadata": {},
   "outputs": [],
   "source": [
    "vue_exemple.modifier_grille('mur_v', 3, 6, couleur_int = (0, 255, 0), epaisseur = 0.1)"
   ]
  },
  {
   "cell_type": "code",
   "execution_count": null,
   "metadata": {},
   "outputs": [],
   "source": [
    "vue_exemple.modifier_grille('mur_h', 4, 5, epaisseur = 0.3, alpha = 0.5)"
   ]
  },
  {
   "cell_type": "markdown",
   "metadata": {},
   "source": [
    "#### Un peu d' `image` (avec quelques raccourcis disponibles) :\n",
    "\n",
    "- Les images à afficher sont préchargées par le module avant affichage et doivent être situées dans le répertoire `./images/` ou dans ses sous-répertoires. \n",
    "- Privilégier des icônes (des images carrés de quelques dizaines de pixels de côté). \n",
    "- Seul le format `.png` est pris en charge.\n",
    "- Lors de la création de l'instance de `Vue`, l'image de chaque cellule est l'image `./images/init.png` qui est transparente. Cette image ne doit donc pas être supprimée du dossier `./images/`.\n",
    "- Le chemin est donné à partir de la racine de `./images/`."
   ]
  },
  {
   "cell_type": "code",
   "execution_count": null,
   "metadata": {},
   "outputs": [],
   "source": [
    "for col in range(NB_COL):\n",
    "    vue_exemple.mg('image', 2, col, cf = 'persos/Frog.png', a = col/(NB_COL - 1), v = True)"
   ]
  },
  {
   "cell_type": "code",
   "execution_count": null,
   "metadata": {},
   "outputs": [],
   "source": [
    "vue_exemple.mg('image', 2, 3, a = 1, t = 0.5)"
   ]
  },
  {
   "cell_type": "code",
   "execution_count": null,
   "metadata": {},
   "outputs": [],
   "source": [
    "#où l'on constate que sans redimensionnement, le flou disparait\n",
    "vue_exemple.mg('image', 2, 3, t = 1)"
   ]
  },
  {
   "cell_type": "markdown",
   "metadata": {},
   "source": [
    "#### Un peu de `texte` (avec quelques raccourcis disponibles):\n",
    "La gestion du texte dans matplotlib étant très pauvre, il en est de même ici. Le texte sera limité à quelques caractères."
   ]
  },
  {
   "cell_type": "code",
   "execution_count": null,
   "metadata": {},
   "outputs": [],
   "source": [
    "vue_exemple.reinitialiser_grille()"
   ]
  },
  {
   "cell_type": "code",
   "execution_count": null,
   "metadata": {},
   "outputs": [],
   "source": [
    "from random import choice\n",
    "import string\n",
    "\n",
    "alphabet = string.ascii_uppercase\n",
    "\n",
    "for lig in range(NB_LIG):\n",
    "    for col in range(NB_COL):\n",
    "        vue_exemple.mg('texte', lig, col, t = choice(alphabet), tp = 30, v = True)\n",
    "        "
   ]
  },
  {
   "cell_type": "markdown",
   "metadata": {},
   "source": [
    "#### z-order\n",
    "\n",
    "Le z-order (superposition) des objets n'est pas accessible depuis l'interface et n'est donc pas modifiable.\n",
    "On a, en partant du bas : `fond : z = 0`, puis `image : z = 1` puis `mur_h : z = 2` puis `mur_v : z = 3` puis `texte : z = 4`."
   ]
  },
  {
   "cell_type": "code",
   "execution_count": null,
   "metadata": {},
   "outputs": [],
   "source": [
    "vue_exemple.mg('fond', 3, 3, ci = (255, 0, 0), ce = (0, 0, 0), v = True)\n",
    "vue_exemple.mg('image', 3, 3, cf = 'symboles/Heart.png', v = True)\n",
    "vue_exemple.mg('mur_v', 3, 4, c = (0, 156, 198), e = 0.35, v = True)\n",
    "vue_exemple.mg('texte', 3, 3, t = 'XOX', tp = 40, v = True)"
   ]
  },
  {
   "cell_type": "code",
   "execution_count": null,
   "metadata": {},
   "outputs": [],
   "source": [
    "vue_exemple.reinitialiser_grille()"
   ]
  },
  {
   "cell_type": "markdown",
   "metadata": {},
   "source": [
    "# II : Afficher du texte dans la zone texte (ça peut être utile)"
   ]
  },
  {
   "cell_type": "code",
   "execution_count": null,
   "metadata": {},
   "outputs": [],
   "source": [
    "%matplotlib notebook\n",
    "from interface_grille import Vue\n",
    "help(Vue.modifier_zonetexte)\n",
    "help(Vue.mzt)"
   ]
  },
  {
   "cell_type": "code",
   "execution_count": null,
   "metadata": {},
   "outputs": [],
   "source": [
    "NB_LIG = 4\n",
    "NB_COL = 6\n",
    "vue_exemple = Vue(NB_LIG, NB_COL)\n",
    "\n",
    "a = 'persos/Frog.png'\n",
    "b = 'persos/pinkie.png'\n",
    "c = 'persos/mask.png'\n",
    "d = 'persos/virtual.png'\n",
    "\n",
    "matrice = [[a, b, c, d, a, b],\n",
    "           [b, c, d, a, b, c],\n",
    "           [c, d, a, b, c, d],\n",
    "           [d, a, b, c, d, a]]\n",
    "\n",
    "def afficher_matrice(mat):\n",
    "    for lig in range(NB_LIG):\n",
    "        for col in range(NB_COL):\n",
    "            vue_exemple.mg('image', lig, col, cf = mat[lig][col], v = True)\n",
    "        \n",
    "afficher_matrice(matrice)\n",
    "vue_exemple.modifier_zonetexte(texte = 'Hello world!', ct = (255, 0, 0), tp = 30 )"
   ]
  },
  {
   "cell_type": "code",
   "execution_count": null,
   "metadata": {},
   "outputs": [],
   "source": [
    "vue_exemple.reinitialiser_zonetexte()"
   ]
  },
  {
   "cell_type": "markdown",
   "metadata": {},
   "source": [
    "# III : Export en png"
   ]
  },
  {
   "cell_type": "code",
   "execution_count": null,
   "metadata": {},
   "outputs": [],
   "source": [
    "help(Vue.exporter_png)"
   ]
  },
  {
   "cell_type": "code",
   "execution_count": null,
   "metadata": {},
   "outputs": [],
   "source": [
    "vue_exemple.exporter_png('exemple.png')"
   ]
  },
  {
   "cell_type": "markdown",
   "metadata": {},
   "source": [
    "# IV : Interactivité"
   ]
  },
  {
   "cell_type": "code",
   "execution_count": null,
   "metadata": {},
   "outputs": [],
   "source": [
    "%matplotlib notebook\n",
    "from interface_grille import Vue\n",
    "help(Vue.lier_evenement)"
   ]
  },
  {
   "cell_type": "markdown",
   "metadata": {},
   "source": [
    "Les points fondamentaux à comprendre concernant la liaison d'évènements (ce n'est pas spécifique à cette interface) sont :\n",
    "- il faut créer une fonction dite \"gestionnaire\" ou \"écouteur\" qui va s'occuper, lorsqu'un évènement a lieu, d'exécuter telle ou telle séquence d'instructions. Il faut donc indiquer à l'interface graphique que, lorsque tel ou tel évènement survient il faut appeler telle ou telle fonction gestionnaire. On dit qu'on **lie un évènement à une fonction gestionnaire**\n",
    "\n",
    "\n",
    "- la fonction qui va gérer l'évènement va obligatoirement recevoir un argument `evenement` qui va indiquer de quel évènement il s'agit (quel bouton a été cliqué, quelle touche a été appuyée, quel élément graphique a été sélectionné etc.). C'est l'interface graphique qui passe automatiquement l'évènement à la fonction sans que le programmeur n'ait à l'indiquer quelque part (c'est donc \"invisible\", ce qui peut surprendre les premières fois).   \n",
    "\n",
    "\n",
    "- si le programmeur souhaite agir sur la mémoire du programme (typiquement les matrices représentant le plateau et/ou d'autres informations) lorsque l'évènement survient, il faut que la fonction gestionnaire récupère cette \"mémoire du programme\" pour pouvoir agir dessus **ce qui suppose deux choses** :\n",
    "    - que cette \"mémoire du programme\" soit passée en argument à la fonction gestionnaire (d'où la possibilité de passer un argument à la fonction gestionnaire lors de la liaison)\n",
    "    - que les modifications **opérées à l'intérieur** de la fonction gestionnaire sur cette \"mémoire du programme\" soient **répercutées à l'extérieur** de la fonction. Ce qui suppose que cette \"mémoire du programme\" soit stockée dans une  structure de données mutable (par exemple `list` ou `dict` python, ou objet au sens POO)\n",
    "    \n",
    "\n",
    "**Cet objet `evenement` est très pratique car l'interface graphique nous y a stocké un travail précieux. En effet, elle nous indique dans le dictionnaire `evenement` quel objet a été sélectionné à la souris, à quelle ligne et à quelle colonne ! Il n'y a donc rien à faire pour obtenir ces informations, si ce n'est les lire dans le dictionnaire `evenement` !**"
   ]
  },
  {
   "cell_type": "code",
   "execution_count": null,
   "metadata": {},
   "outputs": [],
   "source": [
    "NB_LIG = 4\n",
    "NB_COL = 6\n",
    "vue_exemple = Vue(NB_LIG, NB_COL)\n",
    "\n",
    "a = 'persos/Frog.png'\n",
    "b = 'persos/pinkie.png'\n",
    "c = 'persos/mask.png'\n",
    "d = 'persos/virtual.png'\n",
    "\n",
    "matrice = [[a, b, c, d, a, b],\n",
    "           [b, c, d, a, b, c],\n",
    "           [c, d, a, b, c, d],\n",
    "           [d, a, b, c, d, a]]\n",
    "\n",
    "def afficher_matrice(mat):\n",
    "    for lig in range(NB_LIG):\n",
    "        for col in range(NB_COL):\n",
    "            vue_exemple.mg('image', lig, col, cf = mat[lig][col], v = True)\n",
    "        \n",
    "        \n",
    "def gestionnaire_selection(evenement, matrice):\n",
    "    S = ''\n",
    "    for key, val in evenement.items():\n",
    "        S = S + key + ' : ' + str(val) + '\\n'\n",
    "    lig = evenement['lig']\n",
    "    col = evenement['col']       \n",
    "    S = S + 'Le personnage sélectionné, d\\'après la matrice en mémoire, est : ' +  matrice[lig][col]\n",
    "    vue_exemple.mzt(t = S, ct = (255, 0, 0), tp = 6)\n",
    "    \n",
    "vue_exemple.lier_evenement('selection_objet', gestionnaire_selection, True, argument = matrice )\n",
    "afficher_matrice(matrice)"
   ]
  },
  {
   "cell_type": "code",
   "execution_count": null,
   "metadata": {},
   "outputs": [],
   "source": []
  }
 ],
 "metadata": {
  "kernelspec": {
   "display_name": "Python 3",
   "language": "python",
   "name": "python3"
  },
  "language_info": {
   "codemirror_mode": {
    "name": "ipython",
    "version": 3
   },
   "file_extension": ".py",
   "mimetype": "text/x-python",
   "name": "python",
   "nbconvert_exporter": "python",
   "pygments_lexer": "ipython3",
   "version": "3.8.2"
  }
 },
 "nbformat": 4,
 "nbformat_minor": 4
}

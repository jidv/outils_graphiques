{
 "cells": [
  {
   "cell_type": "markdown",
   "metadata": {},
   "source": [
    "<a id=\"suite_d_inegalites\"></a>\n",
    "### suite_d_inegalites\n",
    "\n",
    "\n",
    "On se donne un ensemble de N nombres entiers et une suite de N boîtes avec des inégalités entre ces boîtes.  \n",
    "\n",
    "Ecrire un algorithme qui place les N nombres dans les boîtes afin que toutes les inégalités soient satisfaites.\n"
   ]
  },
  {
   "cell_type": "code",
   "execution_count": null,
   "metadata": {},
   "outputs": [],
   "source": [
    "%matplotlib notebook\n",
    "from affichages.suite_d_inegalites import Dessin\n",
    "\n",
    "d = Dessin()"
   ]
  },
  {
   "cell_type": "code",
   "execution_count": null,
   "metadata": {},
   "outputs": [],
   "source": [
    "d.inserer(42, 2) #remplacer 42 par un nombre de la liste tirée au sort"
   ]
  }
 ],
 "metadata": {
  "kernelspec": {
   "display_name": "Python 3",
   "language": "python",
   "name": "python3"
  },
  "language_info": {
   "codemirror_mode": {
    "name": "ipython",
    "version": 3
   },
   "file_extension": ".py",
   "mimetype": "text/x-python",
   "name": "python",
   "nbconvert_exporter": "python",
   "pygments_lexer": "ipython3",
   "version": "3.8.2"
  }
 },
 "nbformat": 4,
 "nbformat_minor": 4
}

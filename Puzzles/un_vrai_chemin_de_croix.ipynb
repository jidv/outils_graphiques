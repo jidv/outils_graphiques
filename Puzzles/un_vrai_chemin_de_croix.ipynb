{
 "cells": [
  {
   "cell_type": "markdown",
   "metadata": {},
   "source": [
    "<a id = \"un_vrai_chemin_de_croix\"></a>\n",
    "### un_vrai_chemin_de_croix\n",
    "\n",
    "\n",
    "Sur le plateau en forme de croix ci-dessous, déterminer un chemin passant une seule fois par chacune des 45 cases ou démontrer qu'il n'existe pas de tel chemin.\n"
   ]
  },
  {
   "cell_type": "code",
   "execution_count": null,
   "metadata": {},
   "outputs": [],
   "source": [
    "from affichages.un_vrai_chemin_de_croix import Dessin\n",
    "\n",
    "d = Dessin()"
   ]
  }
 ],
 "metadata": {
  "kernelspec": {
   "display_name": "Python 3",
   "language": "python",
   "name": "python3"
  },
  "language_info": {
   "codemirror_mode": {
    "name": "ipython",
    "version": 3
   },
   "file_extension": ".py",
   "mimetype": "text/x-python",
   "name": "python",
   "nbconvert_exporter": "python",
   "pygments_lexer": "ipython3",
   "version": "3.8.2"
  }
 },
 "nbformat": 4,
 "nbformat_minor": 4
}

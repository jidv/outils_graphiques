{
 "cells": [
  {
   "cell_type": "markdown",
   "metadata": {},
   "source": [
    "<a id=\"lignes_et_colonnes\"></a>\n",
    "### lignes_et_colonnes\n",
    "Peut-on transformer la matrice représentée ci-dessous à gauche en la matrice représentée ci-dessous à droite en effectuant uniquement des permutations de deux lignes ou colonnes à la fois ?\n",
    "```\n",
    "    1  2  3  4           12 10 11 9  \n",
    "    5  6  7  8           16 14 5  13\n",
    "    9  10 11 12          8  6  7  15\n",
    "    13 14 15 16          2  2  3  4\n",
    "```"
   ]
  },
  {
   "cell_type": "code",
   "execution_count": null,
   "metadata": {},
   "outputs": [],
   "source": [
    "%matplotlib notebook\n",
    "from affichages.lignes_et_colonnes import *\n",
    "d = Dessin()"
   ]
  },
  {
   "cell_type": "code",
   "execution_count": null,
   "metadata": {},
   "outputs": [],
   "source": [
    "d.echanger_lignes(0, 1)"
   ]
  },
  {
   "cell_type": "code",
   "execution_count": null,
   "metadata": {},
   "outputs": [],
   "source": [
    "d.echanger_colonnes(2, 3)"
   ]
  }
 ],
 "metadata": {
  "kernelspec": {
   "display_name": "Python 3",
   "language": "python",
   "name": "python3"
  },
  "language_info": {
   "codemirror_mode": {
    "name": "ipython",
    "version": 3
   },
   "file_extension": ".py",
   "mimetype": "text/x-python",
   "name": "python",
   "nbconvert_exporter": "python",
   "pygments_lexer": "ipython3",
   "version": "3.8.2"
  }
 },
 "nbformat": 4,
 "nbformat_minor": 4
}

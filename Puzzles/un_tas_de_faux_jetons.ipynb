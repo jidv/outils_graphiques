{
 "cells": [
  {
   "cell_type": "markdown",
   "metadata": {},
   "source": [
    "<a id=\"un_tas_de_faux_jetons\"></a>\n",
    "### un_tas_de_faux_jetons\n",
    "\n",
    "Au casino, on dispose de 25 tas de 25 jetons de 10 euros. On sait qu'un des tas est composé uniquement de faux jetons qui pèsent un gramme de moins que les vrais jetons (les autres tas sont composés unqiuement de vrais jetons).  \n",
    "\n",
    "On dispose d'une balance électronique de précision. Quel est le nombre minimum de pesées à effectuer pour trouver quel est le tas de faux jetons ?"
   ]
  }
 ],
 "metadata": {
  "kernelspec": {
   "display_name": "Python 3",
   "language": "python",
   "name": "python3"
  },
  "language_info": {
   "codemirror_mode": {
    "name": "ipython",
    "version": 3
   },
   "file_extension": ".py",
   "mimetype": "text/x-python",
   "name": "python",
   "nbconvert_exporter": "python",
   "pygments_lexer": "ipython3",
   "version": "3.8.2"
  }
 },
 "nbformat": 4,
 "nbformat_minor": 4
}

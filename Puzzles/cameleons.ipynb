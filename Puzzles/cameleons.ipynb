{
 "cells": [
  {
   "cell_type": "markdown",
   "metadata": {},
   "source": [
    "<a id=\"cameleons\"></a>\n",
    "### cameleons\n",
    "\n",
    "Une chercheuse place 10 caméléons marrons, 14 caméléons gris et 15 caméléons noirs sur une île.\n",
    "\n",
    "Lorsque deux caméléons de deux couleurs différentes se rencontrent, leurs couleurs changent pour la troisième couleur.  \n",
    "\n",
    "Est-il possible que tous les caméléons finissent de la même couleur ?"
   ]
  }
 ],
 "metadata": {
  "kernelspec": {
   "display_name": "Python 3",
   "language": "python",
   "name": "python3"
  },
  "language_info": {
   "codemirror_mode": {
    "name": "ipython",
    "version": 3
   },
   "file_extension": ".py",
   "mimetype": "text/x-python",
   "name": "python",
   "nbconvert_exporter": "python",
   "pygments_lexer": "ipython3",
   "version": "3.8.2"
  }
 },
 "nbformat": 4,
 "nbformat_minor": 4
}

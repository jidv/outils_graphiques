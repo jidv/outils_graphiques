{
 "cells": [
  {
   "cell_type": "markdown",
   "metadata": {},
   "source": [
    "<a id=\"decoupe_de_bambou\"></a>\n",
    "### decoupe_de_bambou\n",
    "\n",
    "Une tige de bambou de 100 unités de long doit être découpée en 100 morceaux d'une unité de long.  \n",
    "\n",
    "En une seule découpe, on peut découper autant de morceaux que l'on souhaite.\n",
    "\n",
    "Quel est le nombre minimum de découpes à réaliser ?\n",
    "\n",
    "\n",
    "\n",
    "\n",
    "\n"
   ]
  }
 ],
 "metadata": {
  "kernelspec": {
   "display_name": "Python 3",
   "language": "python",
   "name": "python3"
  },
  "language_info": {
   "codemirror_mode": {
    "name": "ipython",
    "version": 3
   },
   "file_extension": ".py",
   "mimetype": "text/x-python",
   "name": "python",
   "nbconvert_exporter": "python",
   "pygments_lexer": "ipython3",
   "version": "3.8.2"
  }
 },
 "nbformat": 4,
 "nbformat_minor": 4
}

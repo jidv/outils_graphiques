{
 "cells": [
  {
   "cell_type": "markdown",
   "metadata": {},
   "source": [
    "<a id=\"loup_chevre_chou\"></a>\n",
    "### loup_chevre_chou\n",
    "\n",
    "Un homme se trouve sur la berge d'une rivière avec un loup, une chèvre et un chou. Il doit les transporter de l'autre côté de la rivière mais il ne peut embarquer qu'un seul passager à la fois sur son bateau. Par ailleurs il ne peut pas laisser le loup et la chèvre seuls (le loup mange la chèvre), ni laisser la chèvre et le chou seuls (la chèvre mange le chou).  \n",
    "\n",
    "Montrer comment l'homme peut les faire traverser tous les trois."
   ]
  },
  {
   "cell_type": "code",
   "execution_count": null,
   "metadata": {},
   "outputs": [],
   "source": [
    "from affichages.loup_chevre_chou import *\n",
    "d = Dessin()"
   ]
  }
 ],
 "metadata": {
  "kernelspec": {
   "display_name": "Python 3",
   "language": "python",
   "name": "python3"
  },
  "language_info": {
   "codemirror_mode": {
    "name": "ipython",
    "version": 3
   },
   "file_extension": ".py",
   "mimetype": "text/x-python",
   "name": "python",
   "nbconvert_exporter": "python",
   "pygments_lexer": "ipython3",
   "version": "3.8.2"
  }
 },
 "nbformat": 4,
 "nbformat_minor": 4
}

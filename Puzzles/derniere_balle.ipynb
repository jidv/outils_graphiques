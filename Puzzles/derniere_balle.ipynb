{
 "cells": [
  {
   "cell_type": "markdown",
   "metadata": {},
   "source": [
    "<a id = \"derniere_balle\"></a>\n",
    "### derniere_balle\n",
    "\n",
    "On dispose d'un stock de balles noires et de balles blanches. On place 20 balles noires et 16 balles blanches dans un sac.  \n",
    "\n",
    "On répète alors l'opération suivante jusqu'à ce qu'il ne reste plus qu'une seule balle dans le sac :\n",
    "\n",
    "```\n",
    "On retire deux balles du sac :\n",
    "    - si elles sont de la même couleur on rajoute une balle noire dans le sac,\n",
    "    - si elles sont de couleurs différentes on rajoute une balle blanche dans le sac.\n",
    "```\n",
    "\n",
    "Peut-on prédire la couleur de la dernière balle qui reste dans le sac ?\n"
   ]
  }
 ],
 "metadata": {
  "kernelspec": {
   "display_name": "Python 3",
   "language": "python",
   "name": "python3"
  },
  "language_info": {
   "codemirror_mode": {
    "name": "ipython",
    "version": 3
   },
   "file_extension": ".py",
   "mimetype": "text/x-python",
   "name": "python",
   "nbconvert_exporter": "python",
   "pygments_lexer": "ipython3",
   "version": "3.8.2"
  }
 },
 "nbformat": 4,
 "nbformat_minor": 4
}

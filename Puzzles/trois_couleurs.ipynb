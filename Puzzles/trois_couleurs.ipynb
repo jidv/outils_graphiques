{
 "cells": [
  {
   "cell_type": "markdown",
   "metadata": {},
   "source": [
    "<a id = \"trois_couleurs\"></a>\n",
    "### trois_couleurs\n",
    "\n",
    "On considère une planche de jeu constituée de N lignes de 3 colonnes dont les cellules sont remplies aléatoirement grâce à 3N pions : N pions rouges, N pions verts et N pions bleus.  \n",
    "\n",
    "Le seul déplacement autorisé est l'échange de deux pions *de la même colonne*.\n",
    "\n",
    "- Est-il possible d'obtenir sur chaque ligne 3 pions de couleurs différentes ?\n",
    "\n",
    "- Si oui, déterminer un algorithme effectuant cette tâche, sinon trouver un contre-exemple."
   ]
  },
  {
   "cell_type": "code",
   "execution_count": null,
   "metadata": {},
   "outputs": [],
   "source": [
    "%matplotlib notebook\n",
    "from affichages.trois_couleurs import Dessin\n",
    "d = Dessin()"
   ]
  },
  {
   "cell_type": "code",
   "execution_count": null,
   "metadata": {},
   "outputs": [],
   "source": [
    "d.echanger_couleurs(col = 1, lig_a = 3, lig_b = 8)"
   ]
  }
 ],
 "metadata": {
  "kernelspec": {
   "display_name": "Python 3",
   "language": "python",
   "name": "python3"
  },
  "language_info": {
   "codemirror_mode": {
    "name": "ipython",
    "version": 3
   },
   "file_extension": ".py",
   "mimetype": "text/x-python",
   "name": "python",
   "nbconvert_exporter": "python",
   "pygments_lexer": "ipython3",
   "version": "3.8.2"
  }
 },
 "nbformat": 4,
 "nbformat_minor": 4
}

{
 "cells": [
  {
   "cell_type": "markdown",
   "metadata": {},
   "source": [
    "<a id=\"missionnaires_et_cannibales\"></a>\n",
    "### missionnaires_et_cannibales\n",
    "\n",
    "Trois missionnaires et trois cannibales doivent passer de la rive gauche d'une rivière à la rive droite. Leur bateau ne peut embarquer que deux passagers. Sur chacune des berges, le nombre de missionnaires doit toujours être plus petit que le nombre de cannibales (sinon ils se font dévorer).\n",
    "\n",
    "- Peuvent-ils traverser la rivière ?\n",
    "\n",
    "- Si oui, quel est le nombre minimal de traversées ? Sinon, démontrer que ce n'est pas possible."
   ]
  },
  {
   "cell_type": "code",
   "execution_count": null,
   "metadata": {},
   "outputs": [],
   "source": [
    "%matplotlib notebook\n",
    "from affichages.missionnaires_et_cannibales import Dessin\n",
    "d = Dessin()"
   ]
  },
  {
   "cell_type": "code",
   "execution_count": null,
   "metadata": {},
   "outputs": [],
   "source": [
    "d.v.enregistrer(nom_fichier = 'missionnaires_et_cannibales', format_image ='png', )"
   ]
  }
 ],
 "metadata": {
  "kernelspec": {
   "display_name": "Python 3",
   "language": "python",
   "name": "python3"
  },
  "language_info": {
   "codemirror_mode": {
    "name": "ipython",
    "version": 3
   },
   "file_extension": ".py",
   "mimetype": "text/x-python",
   "name": "python",
   "nbconvert_exporter": "python",
   "pygments_lexer": "ipython3",
   "version": "3.8.2"
  }
 },
 "nbformat": 4,
 "nbformat_minor": 4
}

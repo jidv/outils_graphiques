{
 "cells": [
  {
   "cell_type": "markdown",
   "metadata": {},
   "source": [
    "<a id=\"trouver_la_fausse_piece\"></a>\n",
    "### trouver_la_fausse_piece\n",
    "\n",
    "On dispose de 25 pièces identiques pesant toutes 10 grammes, sauf une qui est contrefaite et ne pèse que 9 grammes.\n",
    "\n",
    "- À l'aide d'une balance éléctronique de précision, quel est le nombre minimal de pesées à effectuer pour être certain de trouver la pièce contrefaite ?\n",
    "\n",
    "- Et à l'aide d'une balance à deux plateaux ?"
   ]
  }
 ],
 "metadata": {
  "kernelspec": {
   "display_name": "Python 3",
   "language": "python",
   "name": "python3"
  },
  "language_info": {
   "codemirror_mode": {
    "name": "ipython",
    "version": 3
   },
   "file_extension": ".py",
   "mimetype": "text/x-python",
   "name": "python",
   "nbconvert_exporter": "python",
   "pygments_lexer": "ipython3",
   "version": "3.8.2"
  }
 },
 "nbformat": 4,
 "nbformat_minor": 4
}

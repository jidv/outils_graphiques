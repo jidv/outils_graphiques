{
 "cells": [
  {
   "cell_type": "markdown",
   "metadata": {},
   "source": [
    "<a id=\"carre_BR\"></a>\n",
    "### carre_BR\n",
    "\n",
    "On dispose de N x N cartes sur chacune desquelles est écrit un nombre distinct des autres. Ces cartes ont été alignées pour former un carré, la face portant un nombre étant cachée. On sait que :\n",
    "\n",
    "- sur chaque ligne, les nombres sont rangés par ordre croissant de gauche à droite,\n",
    "- sur chaque colonne, les nombres sont rangés par ordre croissant de haut en bas.\n",
    "\n",
    "Construire un algorithme permettant, en retournant moins de 2 x N cartes, de déterminer si un nombre donné est présent parmi les N x N cartes."
   ]
  },
  {
   "cell_type": "code",
   "execution_count": null,
   "metadata": {},
   "outputs": [],
   "source": [
    "%matplotlib notebook\n",
    "from affichages.carre_BR import Dessin\n",
    "d = Dessin( dim = 10)"
   ]
  }
 ],
 "metadata": {
  "kernelspec": {
   "display_name": "Python 3",
   "language": "python",
   "name": "python3"
  },
  "language_info": {
   "codemirror_mode": {
    "name": "ipython",
    "version": 3
   },
   "file_extension": ".py",
   "mimetype": "text/x-python",
   "name": "python",
   "nbconvert_exporter": "python",
   "pygments_lexer": "ipython3",
   "version": "3.8.2"
  }
 },
 "nbformat": 4,
 "nbformat_minor": 4
}

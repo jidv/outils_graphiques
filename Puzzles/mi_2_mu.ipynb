{
 "cells": [
  {
   "cell_type": "markdown",
   "metadata": {},
   "source": [
    "<a id=\"mi_2_mu\"></a>\n",
    "### mi_2_mu\n",
    "\n",
    "On prend comme départ la chaîne de caractères `MI` que l'on peut transformer au fur et à mesure en appliquant les modifications suivantes :\n",
    "\n",
    "- Règle 1 : Ajouter `U` à la fin de la chaîne de caractères si elle finit par `I`. Par exemple `MI -> MIU`.\n",
    "- Règle 2 : Doubler la partie de la chaîne de caractères située après le `M`. Par exemple `MIU -> MIUIU`.\n",
    "- Règle 3 : Remplacer toute séquence `III` par un `U`. Par exemple `MUIIIU -> MUUU`.\n",
    "- Règle 4 : Supprimer toute séquence `UU`. par exemple `MUUU -> MU`\n",
    "\n",
    "Construire, s'il existe, un algorithme permettant d'aboutir à la chaîne de caractères `MU`."
   ]
  }
 ],
 "metadata": {
  "kernelspec": {
   "display_name": "Python 3",
   "language": "python",
   "name": "python3"
  },
  "language_info": {
   "codemirror_mode": {
    "name": "ipython",
    "version": 3
   },
   "file_extension": ".py",
   "mimetype": "text/x-python",
   "name": "python",
   "nbconvert_exporter": "python",
   "pygments_lexer": "ipython3",
   "version": "3.8.2"
  }
 },
 "nbformat": 4,
 "nbformat_minor": 4
}

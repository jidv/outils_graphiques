{
 "cells": [
  {
   "cell_type": "markdown",
   "metadata": {},
   "source": [
    "<a id = 'tours_de_hanoi'></a>\n",
    "### tours_de_hanoi\n",
    "\n",
    "Construire un algorithme permettant de résoudre le problème des tours de Hanoï.\n",
    "\n",
    "https://www.integral-domain.org/lwilliams/Applets/games/towerOfHanoi.php\n",
    "\n",
    "https://www.mathsisfun.com/games/towerofhanoi.html\n",
    "\n",
    "https://www.webgamesonline.com/towers-of-hanoi/"
   ]
  }
 ],
 "metadata": {
  "kernelspec": {
   "display_name": "Python 3",
   "language": "python",
   "name": "python3"
  },
  "language_info": {
   "codemirror_mode": {
    "name": "ipython",
    "version": 3
   },
   "file_extension": ".py",
   "mimetype": "text/x-python",
   "name": "python",
   "nbconvert_exporter": "python",
   "pygments_lexer": "ipython3",
   "version": "3.8.2"
  }
 },
 "nbformat": 4,
 "nbformat_minor": 4
}

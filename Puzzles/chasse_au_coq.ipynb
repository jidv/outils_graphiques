{
 "cells": [
  {
   "cell_type": "markdown",
   "metadata": {},
   "source": [
    "<a id = \"chasse_au_coq\"></a>\n",
    "### chasse_au_coq\n",
    "\n",
    "Sur l'échiquier ci-dessous, la fermière peut capturer le coq en se déplaçant sur la case occupée par le coq.\n",
    "    \n",
    "La fermière et le coq se déplacent à tour de rôle d'une case verticalement ou horizontalement.\n",
    "\n",
    "- Montrer que si la fermière commence à jouer, elle ne pourra pas capturer le coq.\n",
    "    \n",
    "- Montrer que si le coq commence à jouer, la fermière est certaine de pouvoir capturer le coq.\n"
   ]
  },
  {
   "cell_type": "code",
   "execution_count": null,
   "metadata": {},
   "outputs": [],
   "source": [
    "from affichages.chasse_au_coq import Dessin\n",
    "d = Dessin()"
   ]
  }
 ],
 "metadata": {
  "kernelspec": {
   "display_name": "Python 3",
   "language": "python",
   "name": "python3"
  },
  "language_info": {
   "codemirror_mode": {
    "name": "ipython",
    "version": 3
   },
   "file_extension": ".py",
   "mimetype": "text/x-python",
   "name": "python",
   "nbconvert_exporter": "python",
   "pygments_lexer": "ipython3",
   "version": "3.8.2"
  }
 },
 "nbformat": 4,
 "nbformat_minor": 4
}

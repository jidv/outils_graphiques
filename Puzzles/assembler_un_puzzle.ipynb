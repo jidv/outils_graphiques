{
 "cells": [
  {
   "cell_type": "markdown",
   "metadata": {},
   "source": [
    "<a id=\"assembler_un_puzzle\"></a>\n",
    "### assembler_un_puzzle\n",
    "\n",
    "On assemble un puzzle de 500 pièces.  \n",
    "\n",
    "On appelle *morceau* de puzzle un ensemble d'une ou plusieurs pièces du puzzle (correctement) assemblées entre-elles. \n",
    "\n",
    "On appelle *assemblage* le fait d'assembler deux morceaux entre eux.\n",
    "\n",
    "Quel est le nombre minimum d'assemblages à réaliser pour achever le puzzle ?"
   ]
  }
 ],
 "metadata": {
  "kernelspec": {
   "display_name": "Python 3",
   "language": "python",
   "name": "python3"
  },
  "language_info": {
   "codemirror_mode": {
    "name": "ipython",
    "version": 3
   },
   "file_extension": ".py",
   "mimetype": "text/x-python",
   "name": "python",
   "nbconvert_exporter": "python",
   "pygments_lexer": "ipython3",
   "version": "3.8.2"
  }
 },
 "nbformat": 4,
 "nbformat_minor": 4
}

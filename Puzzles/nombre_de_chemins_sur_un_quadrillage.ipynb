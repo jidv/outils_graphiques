{
 "cells": [
  {
   "cell_type": "markdown",
   "metadata": {},
   "source": [
    "<a id=\"nombre_de_chemins_sur_un_quadrillage\"></a>\n",
    "\n",
    "### nombre_de_chemins_sur_un_quadrillage\n",
    "\n",
    "Sur un quadrillage tel que le quadrillage ci-dessous, on appelle *chemin correct* un déplacement :\n",
    "- le long des arêtes jaunes,\n",
    "- partant du coin supérieur gauche,\n",
    "- finissant au coin inférieur droit,\n",
    "- n'empruntant jamais une arête de droite à gauche ou de bas en haut.\n",
    "\n",
    "Construire un algorithme permettant de déterminer le nombre de *chemins corrects*."
   ]
  },
  {
   "cell_type": "code",
   "execution_count": null,
   "metadata": {},
   "outputs": [],
   "source": [
    "%matplotlib notebook\n",
    "\n",
    "from affichages.nombre_de_chemins_sur_un_quadrillage import *\n",
    "d = Dessin()"
   ]
  },
  {
   "cell_type": "code",
   "execution_count": null,
   "metadata": {},
   "outputs": [],
   "source": [
    "d.nouveau()"
   ]
  }
 ],
 "metadata": {
  "kernelspec": {
   "display_name": "Python 3",
   "language": "python",
   "name": "python3"
  },
  "language_info": {
   "codemirror_mode": {
    "name": "ipython",
    "version": 3
   },
   "file_extension": ".py",
   "mimetype": "text/x-python",
   "name": "python",
   "nbconvert_exporter": "python",
   "pygments_lexer": "ipython3",
   "version": "3.8.2"
  }
 },
 "nbformat": 4,
 "nbformat_minor": 4
}

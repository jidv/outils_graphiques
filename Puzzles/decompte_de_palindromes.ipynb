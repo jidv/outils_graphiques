{
 "cells": [
  {
   "cell_type": "markdown",
   "metadata": {},
   "source": [
    "<a id=\"decompte_de_palindromes\"></a>\n",
    "### decompte_de_palindromes\n",
    "\n",
    "De combien de façons le palindrome :\n",
    "    \n",
    "*ENGAGE LE JEU QUE JE LE GAGNE*\n",
    "\n",
    "peut-il être lu dans la grille ci-dessous ?\n",
    "\n",
    "(La lecture d'une lettre à la suivante se fait horizontalement ou verticalement et une même lettre sur la grille peut être lue plusieurs fois)"
   ]
  },
  {
   "cell_type": "code",
   "execution_count": null,
   "metadata": {},
   "outputs": [],
   "source": [
    "from affichages.decompte_de_palindromes import Dessin\n",
    "d = Dessin()"
   ]
  }
 ],
 "metadata": {
  "kernelspec": {
   "display_name": "Python 3",
   "language": "python",
   "name": "python3"
  },
  "language_info": {
   "codemirror_mode": {
    "name": "ipython",
    "version": 3
   },
   "file_extension": ".py",
   "mimetype": "text/x-python",
   "name": "python",
   "nbconvert_exporter": "python",
   "pygments_lexer": "ipython3",
   "version": "3.8.2"
  }
 },
 "nbformat": 4,
 "nbformat_minor": 4
}

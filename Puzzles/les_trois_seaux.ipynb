{
 "cells": [
  {
   "cell_type": "markdown",
   "metadata": {},
   "source": [
    "<a id=\"les_trois_seaux\"></a>\n",
    "### les_trois_seaux\n",
    "\n",
    "On dispose d'un seau de 8 litres plein d'eau et de deux seaux vides de 5 et 3 litres.\n",
    "\n",
    "En vidant ou transvasant l'eau d'un seau à l'autre, déterminez comment obtenir 4 litres d'eau dans un seau."
   ]
  },
  {
   "cell_type": "code",
   "execution_count": null,
   "metadata": {},
   "outputs": [],
   "source": [
    "from affichages.les_trois_seaux import Dessin\n",
    "d = Dessin()"
   ]
  },
  {
   "cell_type": "code",
   "execution_count": null,
   "metadata": {},
   "outputs": [],
   "source": [
    "d.v.enregistrer(nom_fichier = 'les_trois_seaux', format_image ='png', )"
   ]
  }
 ],
 "metadata": {
  "kernelspec": {
   "display_name": "Python 3",
   "language": "python",
   "name": "python3"
  },
  "language_info": {
   "codemirror_mode": {
    "name": "ipython",
    "version": 3
   },
   "file_extension": ".py",
   "mimetype": "text/x-python",
   "name": "python",
   "nbconvert_exporter": "python",
   "pygments_lexer": "ipython3",
   "version": "3.8.2"
  }
 },
 "nbformat": 4,
 "nbformat_minor": 4
}

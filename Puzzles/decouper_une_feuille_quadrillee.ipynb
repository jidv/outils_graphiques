{
 "cells": [
  {
   "cell_type": "markdown",
   "metadata": {},
   "source": [
    "<a id = \"decouper_une_feuille_quadrillee\"></a>\n",
    "### decouper_une_feuille_quadrillee\n",
    "\n",
    "On dispose d'une feuille de papier quadrillé composée de M x N carrés.  \n",
    "On doit la découper en M x N carrés de dimensions 1 x 1 en étant autorisé :\n",
    "    \n",
    "- à faire des découpes en ligne droite,\n",
    "- à empiler plusieurs morceaux de feuilles pour les découper ensemble.\n",
    "\n",
    "Constriure un algorithme qui effectue cette tâche avec un nombre minimal de découpes.\n",
    "    \n"
   ]
  }
 ],
 "metadata": {
  "kernelspec": {
   "display_name": "Python 3",
   "language": "python",
   "name": "python3"
  },
  "language_info": {
   "codemirror_mode": {
    "name": "ipython",
    "version": 3
   },
   "file_extension": ".py",
   "mimetype": "text/x-python",
   "name": "python",
   "nbconvert_exporter": "python",
   "pygments_lexer": "ipython3",
   "version": "3.8.2"
  }
 },
 "nbformat": 4,
 "nbformat_minor": 4
}

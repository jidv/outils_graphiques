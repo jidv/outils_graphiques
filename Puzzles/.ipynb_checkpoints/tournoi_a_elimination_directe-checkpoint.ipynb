{
 "cells": [
  {
   "cell_type": "markdown",
   "metadata": {},
   "source": [
    "<a id=\"tournoi_a_elimination_directe\"></a>\n",
    "### tournoi_a_elimination_directe\n",
    "\n",
    "Dans un tournoi à élimination directe, chaque joueur perdant un match est éliminé des tours suivants jusqu'à ce qu'il ne retse plus qu'un seul joueur : le vainqueur. Considérons un tel tournoi commençant avec N joueurs :\n",
    "- Quel est le nombre de matchs nécessaires pour désigner un vainqueur ?\n",
    "- Combien y a-t-il de tours dans un tel tournoi ?\n",
    "- Combien de matchs supplémentaires doivent être joués pour déterminer le second meilleur joueur ?"
   ]
  },
  {
   "cell_type": "code",
   "execution_count": null,
   "metadata": {},
   "outputs": [],
   "source": []
  }
 ],
 "metadata": {
  "kernelspec": {
   "display_name": "Python 3",
   "language": "python",
   "name": "python3"
  },
  "language_info": {
   "codemirror_mode": {
    "name": "ipython",
    "version": 3
   },
   "file_extension": ".py",
   "mimetype": "text/x-python",
   "name": "python",
   "nbconvert_exporter": "python",
   "pygments_lexer": "ipython3",
   "version": "3.8.2"
  }
 },
 "nbformat": 4,
 "nbformat_minor": 4
}

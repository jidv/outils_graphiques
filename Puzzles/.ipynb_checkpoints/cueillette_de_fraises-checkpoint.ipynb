{
 "cells": [
  {
   "cell_type": "markdown",
   "metadata": {},
   "source": [
    "<a id=\"cueillette_de_fraises\"></a>\n",
    "### cueillette_de_fraises\n",
    "Dans le champ, les fraisiers sont répartis sur un quadrillage rectangulaire comportant M x N cellules.  \n",
    "\n",
    "Un robot chargé d'effectuer la cueillette part du coin supérieur gauche et doit déverser sa cueillette dans le coin inférieur droit. \n",
    "\n",
    "À chaque étape, le robot peut se déplacer d'une cellule soit vers la droite soit vers le bas (et ramasse uniquement les fraises situées sur les cellules qu'il traverse).\n",
    "\n",
    "Déterminer un algorithme qui permet de trouver efficacement le nombre maximal de fraises que le robot peut récolter.\n"
   ]
  },
  {
   "cell_type": "code",
   "execution_count": null,
   "metadata": {},
   "outputs": [],
   "source": [
    "%matplotlib notebook\n",
    "from affichages.cueillette_de_fraises import Dessin\n",
    "d = Dessin()"
   ]
  },
  {
   "cell_type": "code",
   "execution_count": null,
   "metadata": {},
   "outputs": [],
   "source": [
    "d.chemin_robot_au_hasard()"
   ]
  }
 ],
 "metadata": {
  "kernelspec": {
   "display_name": "Python 3",
   "language": "python",
   "name": "python3"
  },
  "language_info": {
   "codemirror_mode": {
    "name": "ipython",
    "version": 3
   },
   "file_extension": ".py",
   "mimetype": "text/x-python",
   "name": "python",
   "nbconvert_exporter": "python",
   "pygments_lexer": "ipython3",
   "version": "3.8.2"
  }
 },
 "nbformat": 4,
 "nbformat_minor": 4
}

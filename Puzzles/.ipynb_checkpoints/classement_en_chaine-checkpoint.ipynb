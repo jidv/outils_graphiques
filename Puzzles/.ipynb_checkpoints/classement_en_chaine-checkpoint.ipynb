{
 "cells": [
  {
   "cell_type": "markdown",
   "metadata": {},
   "source": [
    "<a id=\"classement_en_chaine\"></a>\n",
    "### classement_en_chaine\n",
    "\n",
    "On dispose des résultats d'un championnat durant lequel chacune des N équipes a rencontré une fois chacune des autres équipes. En supposant qu'il n'y ait pas de match-nul est-ce tout le temps possible d'établir une liste d'équipes telle que chaque équipe de la liste a gagné le match contre l'équipe suivante de la liste ?"
   ]
  },
  {
   "cell_type": "code",
   "execution_count": null,
   "metadata": {},
   "outputs": [],
   "source": []
  }
 ],
 "metadata": {
  "kernelspec": {
   "display_name": "Python 3",
   "language": "python",
   "name": "python3"
  },
  "language_info": {
   "codemirror_mode": {
    "name": "ipython",
    "version": 3
   },
   "file_extension": ".py",
   "mimetype": "text/x-python",
   "name": "python",
   "nbconvert_exporter": "python",
   "pygments_lexer": "ipython3",
   "version": "3.8.2"
  }
 },
 "nbformat": 4,
 "nbformat_minor": 4
}

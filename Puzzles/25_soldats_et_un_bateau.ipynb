{
 "cells": [
  {
   "cell_type": "markdown",
   "metadata": {},
   "source": [
    "<a id=\"25_soldats_et_un_bateau\"></a>\n",
    "### 25_soldats_et_un_bateau\n",
    "\n",
    "25 soldats doivent traverser une rivière. Ils aperçoivent deux jeunes filles dans une barque près de leur berge. La barque est si petite qu'elle ne peut embarquer que les deux jeunes filles ou un seul soldat.   \n",
    "\n",
    "Comment les 25 soldats peuvent-ils traverser la rivière ?  \n",
    "\n",
    "Combien de traversées la barque effectuera-t-elle ?"
   ]
  }
 ],
 "metadata": {
  "kernelspec": {
   "display_name": "Python 3",
   "language": "python",
   "name": "python3"
  },
  "language_info": {
   "codemirror_mode": {
    "name": "ipython",
    "version": 3
   },
   "file_extension": ".py",
   "mimetype": "text/x-python",
   "name": "python",
   "nbconvert_exporter": "python",
   "pygments_lexer": "ipython3",
   "version": "3.8.2"
  }
 },
 "nbformat": 4,
 "nbformat_minor": 4
}

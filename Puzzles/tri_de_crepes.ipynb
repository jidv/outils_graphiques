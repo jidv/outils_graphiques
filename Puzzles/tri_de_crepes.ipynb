{
 "cells": [
  {
   "cell_type": "markdown",
   "metadata": {},
   "source": [
    "<a id = 'tri_de_crepes'></a>\n",
    "### tri_de_crepes\n",
    "\n",
    "On considère N crêpes, toutes de tailles différentes, empilées les unes sur les autres.\n",
    "\n",
    "La seule façon de modifier la pile de crêpes est d'insérer une spatule où l'on souhaite dans la pile, et de retourner d'un coup la pile des crêpes situées en équilibre sur la spatule.\n",
    "\n",
    "Construire un algorithme permettant de trier les crêpes de la plus grande (en bas) à la plus petite (en haut). \n",
    "\n",
    "On déterminera le nombre de retournements effectués dans le pire des cas."
   ]
  },
  {
   "cell_type": "code",
   "execution_count": null,
   "metadata": {},
   "outputs": [],
   "source": [
    "%matplotlib notebook\n",
    "from affichages.tri_de_crepes import Dessin\n",
    "d = Dessin(nb_crepes = 7)"
   ]
  },
  {
   "cell_type": "code",
   "execution_count": null,
   "metadata": {},
   "outputs": [],
   "source": [
    "d.retourner_x_crepes(x = 5)"
   ]
  }
 ],
 "metadata": {
  "kernelspec": {
   "display_name": "Python 3",
   "language": "python",
   "name": "python3"
  },
  "language_info": {
   "codemirror_mode": {
    "name": "ipython",
    "version": 3
   },
   "file_extension": ".py",
   "mimetype": "text/x-python",
   "name": "python",
   "nbconvert_exporter": "python",
   "pygments_lexer": "ipython3",
   "version": "3.8.2"
  }
 },
 "nbformat": 4,
 "nbformat_minor": 4
}

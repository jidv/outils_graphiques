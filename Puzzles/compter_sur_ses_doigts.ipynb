{
 "cells": [
  {
   "cell_type": "markdown",
   "metadata": {},
   "source": [
    "<a id=\"compter_sur_ses_doigts\"></a>\n",
    "### compter_sur_ses_doigts\n",
    "\n",
    "Une petite fille compte de 1 à 777 en comptant sur ses doigts de la façon suivante :\n",
    "    \n",
    "- Elle numérote son pouce 1, son index 2, son majeur 3, son annulaire 4, son auriculaire 5, son **pouce** 6, son index 7, etc. Sur quel doigt s'arrêtera-t-elle ?\n",
    "\n",
    "- Elle numérote désormais son pouce 1, son index 2, son majeur 3, son annulaire 4, son auriculaire 5, son **annulaire** 6, son majeur 7, etc. Sur quel doigt s'arrêtera-t-elle ?"
   ]
  }
 ],
 "metadata": {
  "kernelspec": {
   "display_name": "Python 3",
   "language": "python",
   "name": "python3"
  },
  "language_info": {
   "codemirror_mode": {
    "name": "ipython",
    "version": 3
   },
   "file_extension": ".py",
   "mimetype": "text/x-python",
   "name": "python",
   "nbconvert_exporter": "python",
   "pygments_lexer": "ipython3",
   "version": "3.8.2"
  }
 },
 "nbformat": 4,
 "nbformat_minor": 4
}

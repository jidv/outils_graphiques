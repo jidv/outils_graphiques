{
 "cells": [
  {
   "cell_type": "markdown",
   "metadata": {},
   "source": [
    "<a id=\"icosian_game\"></a>\n",
    "### icosian_game\n",
    "Ce graphe est représenté sous forme d'un dodécaèdre.  \n",
    "- Trouver une représentation planaire de ce graphe (sans aucune arête qui se coupe).\n",
    "\n",
    "- Trouver un chemin passant une seule fois par chacun des sommets de ce graphe, et sans repasser deux fois par la même arête."
   ]
  },
  {
   "cell_type": "code",
   "execution_count": null,
   "metadata": {},
   "outputs": [],
   "source": [
    "from affichages.icosian_game import Dessin\n",
    "d = Dessin()"
   ]
  }
 ],
 "metadata": {
  "kernelspec": {
   "display_name": "Python 3",
   "language": "python",
   "name": "python3"
  },
  "language_info": {
   "codemirror_mode": {
    "name": "ipython",
    "version": 3
   },
   "file_extension": ".py",
   "mimetype": "text/x-python",
   "name": "python",
   "nbconvert_exporter": "python",
   "pygments_lexer": "ipython3",
   "version": "3.8.2"
  }
 },
 "nbformat": 4,
 "nbformat_minor": 4
}

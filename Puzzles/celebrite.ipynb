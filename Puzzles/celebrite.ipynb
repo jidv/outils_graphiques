{
 "cells": [
  {
   "cell_type": "markdown",
   "metadata": {},
   "source": [
    "<a id = \"celebrite\"></a>\n",
    "### celebrite\n",
    "\n",
    "Dans un groupe de N personnes, une célébrité est quelqu'un qui ne connait personne mais qui est connu par tout le monde.\n",
    "\n",
    "On cherche à identifier une célébrité **uniquement en posant des questions de la forme \"Connaissez vous telle personne ?\"**\n",
    "\n",
    "Construire un algorithme qui permet :\n",
    "- soit d'identifier une célébrité s'il y en a une de présente dans le groupe,\n",
    "- soit d'annoncer qu'il n'y a aucune célébrité dans le groupe.\n",
    "\n",
    "On précisera le nombre maximal de questions posées par l'algorithme dans le pire des cas."
   ]
  },
  {
   "cell_type": "code",
   "execution_count": null,
   "metadata": {},
   "outputs": [],
   "source": [
    "from affichages.celebrite import *\n",
    "d = Dessin(nb_personnes = 8)"
   ]
  },
  {
   "cell_type": "code",
   "execution_count": null,
   "metadata": {},
   "outputs": [],
   "source": [
    "d.x_connait_y(3, 7)"
   ]
  }
 ],
 "metadata": {
  "kernelspec": {
   "display_name": "Python 3",
   "language": "python",
   "name": "python3"
  },
  "language_info": {
   "codemirror_mode": {
    "name": "ipython",
    "version": 3
   },
   "file_extension": ".py",
   "mimetype": "text/x-python",
   "name": "python",
   "nbconvert_exporter": "python",
   "pygments_lexer": "ipython3",
   "version": "3.8.2"
  }
 },
 "nbformat": 4,
 "nbformat_minor": 4
}

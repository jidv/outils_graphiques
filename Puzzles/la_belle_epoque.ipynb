{
 "cells": [
  {
   "cell_type": "markdown",
   "metadata": {},
   "source": [
    "<a id = \"la_belle_epoque\"></a>\n",
    "\n",
    "### la_belle_epoque\n",
    "\n",
    "Une scientifique historienne (ou le contraire) souhaite trouver l'année pendant laquelle le plus de scientifiques figurant dans *L'Encyclopédie des sciences* étaient en vie.  \n",
    "\n",
    "Elle dispose pour cela de la dernière partie de cette encyclopédie qui indique la liste de tous les scientifiques ainsi que leurs années de naissance (et de décès s'ils sont décédés).\n",
    "\n",
    "Déterminer un algorithme pour réaliser cette tâche.\n",
    "\n",
    "On supposera que :\n",
    "- les personnes nées une année n étaient en vie dès le 1er janvier,\n",
    "- les personnes décédées une année n étaient en vie jusqu'au 31 décembre.\n"
   ]
  }
 ],
 "metadata": {
  "kernelspec": {
   "display_name": "Python 3",
   "language": "python",
   "name": "python3"
  },
  "language_info": {
   "codemirror_mode": {
    "name": "ipython",
    "version": 3
   },
   "file_extension": ".py",
   "mimetype": "text/x-python",
   "name": "python",
   "nbconvert_exporter": "python",
   "pygments_lexer": "ipython3",
   "version": "3.8.2"
  }
 },
 "nbformat": 4,
 "nbformat_minor": 4
}

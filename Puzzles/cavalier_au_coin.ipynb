{
 "cells": [
  {
   "cell_type": "markdown",
   "metadata": {},
   "source": [
    "<a id = \"cavalier_au_coin\"></a>\n",
    "### cavalier_au_coin\n",
    "\n",
    "Un cavalier est placé en bas à gauche d'un échiquier (8 x 8 case).  \n",
    "\n",
    "Peut-il visiter toutes les cases de l'échiquier une seule fois pour finir son trajet dans le coin diagnolamenet opposé à son coin de départ ?\n",
    "\n",
    "On rappelle que les déplacements des cavaliers sont en forme de L : déplacement de deux cases horizontalement ou verticalement plus une case dans la direction perpendiculaire)."
   ]
  },
  {
   "cell_type": "code",
   "execution_count": null,
   "metadata": {},
   "outputs": [],
   "source": [
    "%matplotlib notebook\n",
    "from affichages.cavalier_au_coin import*\n",
    "d = Dessin()"
   ]
  },
  {
   "cell_type": "code",
   "execution_count": null,
   "metadata": {},
   "outputs": [],
   "source": [
    "d.deplacer_hasard()"
   ]
  }
 ],
 "metadata": {
  "kernelspec": {
   "display_name": "Python 3",
   "language": "python",
   "name": "python3"
  },
  "language_info": {
   "codemirror_mode": {
    "name": "ipython",
    "version": 3
   },
   "file_extension": ".py",
   "mimetype": "text/x-python",
   "name": "python",
   "nbconvert_exporter": "python",
   "pygments_lexer": "ipython3",
   "version": "3.8.2"
  }
 },
 "nbformat": 4,
 "nbformat_minor": 4
}

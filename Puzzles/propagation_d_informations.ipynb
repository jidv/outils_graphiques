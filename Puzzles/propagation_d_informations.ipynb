{
 "cells": [
  {
   "cell_type": "markdown",
   "metadata": {},
   "source": [
    "<a id=\"propagation_d_informations\"></a>\n",
    "### propagation_d_informations\n",
    "\n",
    "N personnes sont chacune en possession de leur propore information. Elles souhaitent partager leurs informations entre elles grâce à des messages électroniques.\n",
    "\n",
    "Un message électronique peut contenir plusieurs informations mais ne peut être envoyé qu'à une personne à la fois.\n",
    "\n",
    "Construire un algorithme qui effectue cette tâche en envoyant un minimum de messages."
   ]
  }
 ],
 "metadata": {
  "kernelspec": {
   "display_name": "Python 3",
   "language": "python",
   "name": "python3"
  },
  "language_info": {
   "codemirror_mode": {
    "name": "ipython",
    "version": 3
   },
   "file_extension": ".py",
   "mimetype": "text/x-python",
   "name": "python",
   "nbconvert_exporter": "python",
   "pygments_lexer": "ipython3",
   "version": "3.8.2"
  }
 },
 "nbformat": 4,
 "nbformat_minor": 4
}

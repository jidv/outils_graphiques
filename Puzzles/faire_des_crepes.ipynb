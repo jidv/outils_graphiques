{
 "cells": [
  {
   "cell_type": "markdown",
   "metadata": {},
   "source": [
    "<a id = \"faire_des_crepes\"></a>\n",
    "### faire_des_crêpes\n",
    "\n",
    "On souhaite fabriquer N crêpes en utilisant deux crêpières. Chaque crêpe doit être cuite une minute sur chaque face.  \n",
    "\n",
    "Ecrire un algorithme qui permet de faire cela en un temps minimal et déterminer ce temps minimal en fonction de N."
   ]
  }
 ],
 "metadata": {
  "kernelspec": {
   "display_name": "Python 3",
   "language": "python",
   "name": "python3"
  },
  "language_info": {
   "codemirror_mode": {
    "name": "ipython",
    "version": 3
   },
   "file_extension": ".py",
   "mimetype": "text/x-python",
   "name": "python",
   "nbconvert_exporter": "python",
   "pygments_lexer": "ipython3",
   "version": "3.8.2"
  }
 },
 "nbformat": 4,
 "nbformat_minor": 4
}

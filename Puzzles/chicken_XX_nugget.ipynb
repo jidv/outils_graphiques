{
 "cells": [
  {
   "cell_type": "markdown",
   "metadata": {},
   "source": [
    "<a id=\"chicken_XX_nugget\"></a>\n",
    "### chicken_XX_nugget\n",
    "\n",
    "Vu sur le site internet d'une chaîne de fast-foods :\n",
    "\n",
    "*À déguster seul ou accompagné*\n",
    "\n",
    "*Craquez pour ces nuggets croustillants, à savourer avec ou sans sauce, en famille ou entre amis, faîtes-vous plaisir !*  \n",
    "\n",
    "*Disponibles en portions de 4, 6 ou 9 et 20 Chicken XX_Nuggets.*   \n",
    "\n",
    "*Valeurs nutritionnelles présentées pour une portion de 4.*  \n",
    "\n",
    "*Spécialités panées au poulet.*\n",
    "\n",
    "\n",
    "On dit qu'un nombre est un *nombre nugget* s'il peut correspondre à un nombre de Chicken XX_Nuggets que l'on obtiendrait en commandant plusieurs portions différentes.\n",
    "\n",
    "- Déterminer tous les nombres entiers positifs qui ne sont *pas* des *nombres nugget*.\n",
    "\n",
    "- Construire un algorithme qui détermine le nombre minimal de portions à commander de chaque type pour obtenir un *nombre nugget* donné."
   ]
  }
 ],
 "metadata": {
  "kernelspec": {
   "display_name": "Python 3",
   "language": "python",
   "name": "python3"
  },
  "language_info": {
   "codemirror_mode": {
    "name": "ipython",
    "version": 3
   },
   "file_extension": ".py",
   "mimetype": "text/x-python",
   "name": "python",
   "nbconvert_exporter": "python",
   "pygments_lexer": "ipython3",
   "version": "3.8.2"
  }
 },
 "nbformat": 4,
 "nbformat_minor": 4
}

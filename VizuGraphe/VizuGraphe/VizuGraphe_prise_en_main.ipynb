{
 "cells": [
  {
   "cell_type": "markdown",
   "metadata": {},
   "source": [
    "Ce notebook nécessite de disposer du logiciel [graphviz](https://graphviz.org/download/) ainsi que du module graphviz pour python (`pip install graphviz`)."
   ]
  },
  {
   "cell_type": "markdown",
   "metadata": {},
   "source": [
    "### Installation de graphviz sous Windows (méthode 1)\n",
    "\n",
    "- On se rendra sur la page dédiée : [Downloads](https://graphviz.org/download/) de Graphviz.\n",
    "\n",
    "\t- Normalement le lien pour l'installeur de la version stable (parfois rompu lors des MAJ des dépôts) vous conduit sur cette page :\n",
    "\t- (https://www2.graphviz.org/Packages/stable/windows/). Il faudra ensuite suivre les liens pour parvenir à \n",
    "\t- (https://www2.graphviz.org/Packages/stable/windows/10/cmake/Release/)\n",
    "\n",
    "- Lors de l'installation du logiciel, demandez bien à actualiser le PATH Windows.\n",
    "\n",
    "- Une fois le logiciel installé, il vous faut installer le module permettant à Python de communiquer avec le logiciel Graphviz :\n",
    "\n",
    "\t- `pip install graphviz`\n",
    "\t\n",
    "### Installation de graphviz sous Windows (méthode 2)\n",
    "\n",
    "- Si ce qui est indiqué sur la page [Downloads](https://graphviz.org/download/) de Graphviz conduit au dépôt Github (cela arrive parfois lorsque Graphviz effectue une MAJ sur ses serveus de dépôt) on préférera l'installeur .msi de la version 2.38 qui est toujours disponible ici :  \n",
    "\n",
    "**[installeur MSI pour Windows](https://graphviz.gitlab.io/_pages/Download/Download_windows.html)** \n",
    "\n",
    "\n",
    "- Une fois l'installation du logiciel effectuée, on ajoutera alors graphviz au Path Windows (pour que python puisse le trouver) manuellement car la 2.38 ne le propose pas lors de l'installation :\n",
    "\n",
    "\t- Paramètres > Propriétés Système > Variables d'environnement > Variables système > Path > Modifier > Nouveau \n",
    "\t\n",
    "\t- copier le chemin vers l'installation de graphviz (sans doute \"C:\\Program Files (x86)\\Graphviz2.38\\bin\")\n",
    "\t\n",
    "- Il suffira ensuite d'installer le module permettant à Python de communiquer avec le logiciel Graphviz :\n",
    "\n",
    "\t- `pip install graphviz`\n",
    "\n",
    "### Installation de graphviz sous Debian/Ubuntu\n",
    "\n",
    "- `sudo apt install graphviz`\n",
    "\n",
    "- Il suffira ensuite d'installer le module permettant à Python de communiquer avec le logiciel Graphviz :\n",
    "\n",
    "\t- `pip install graphviz`"
   ]
  },
  {
   "cell_type": "markdown",
   "metadata": {},
   "source": [
    "# I : Premiers exemples d'utilisation de l'afficheur pour les graphes\n",
    "\n",
    "L'afficheur gère plusieurs représentations de graphes :\n",
    "\n",
    "- `liste` : représentation par liste d'adjacence sous forme d'un dictionnaire dont les valeurs sont des listes,\n",
    "- `liste_pond` (*): représentation par liste d'adjacence pondérée sous forme d'un dictionnaire dont les valeurs sont des dictionnaires,\n",
    "- `matrice_bool` : représentation par matrice de booléens,\n",
    "- `matrice_bin` : représentation par matrice de zéros ou de uns,\n",
    "- `matrice_pond` : représentation par matrice pondérée de scalaires.\n",
    "\n",
    "Il n'y a pas de contrainte sur le type des étiquettes (`int, str, tuple ...`) si ce n'est leur taille qui doit rester concise pour obtenir un affichage correct.\n",
    "\n",
    "(*) : sans doute trop ardu en NSI.\n",
    "\n",
    "\n",
    "\n",
    "\n",
    "**Remarque sur ce que cet afficheur ne fait pas :**  \n",
    "Cet afficheur ne placera pas toujours vos sommets de la façon dont vous l'imaginez a priori : \n",
    "- si vous souhaitez un alignement précis des sommets ou des coordonnées précises pour ceux-ci (par exemple je fais un graphe en forme de bateau), cet afficheur ne le fera pas\n",
    "- si vous souhaitez que le sommet 'A' soit au centre  et le sommet 'Z' en bas à droite, il y a peu de chances que cet afficheur vous  produise cet affichage.\n",
    "\n",
    "Néanmoins :\n",
    "- en fonction du moteur de placement des sommets utilisés, il est possible qu'il vous affiche ce que vous souhaitiez,\n",
    "- dans le cas des graphes planaires, on souhaite éviter d'avoir les arcs qui se croisent car cela rend le graphe illisible. Les moteur `neato` et `fdp` y parviennent dans la majorité des cas,\n",
    "- si votre graphe a vocation à être mis dans un cours ou en exercices, il est possible de l'exporter en svg et de faire les affinages grâce à Inkscape,\n",
    "- si ça ne vous satisfait toujours pas --> LaTeX :-)\n",
    "\n"
   ]
  },
  {
   "cell_type": "code",
   "execution_count": 1,
   "metadata": {},
   "outputs": [],
   "source": [
    "from vizu_graphe import VizuGraphe"
   ]
  },
  {
   "cell_type": "markdown",
   "metadata": {},
   "source": [
    "## I.1 : graphe défini par une liste d'adjacence (paramètre `'liste'`)"
   ]
  },
  {
   "cell_type": "code",
   "execution_count": 2,
   "metadata": {},
   "outputs": [
    {
     "data": {
      "image/svg+xml": [
       "<?xml version=\"1.0\" encoding=\"UTF-8\" standalone=\"no\"?>\r\n",
       "<!DOCTYPE svg PUBLIC \"-//W3C//DTD SVG 1.1//EN\"\r\n",
       " \"http://www.w3.org/Graphics/SVG/1.1/DTD/svg11.dtd\">\r\n",
       "<!-- Generated by graphviz version 2.38.0 (20140413.2041)\r\n",
       " -->\r\n",
       "<!-- Title: graphe Pages: 1 -->\r\n",
       "<svg width=\"185pt\" height=\"197pt\"\r\n",
       " viewBox=\"0.00 0.00 185.49 197.12\" xmlns=\"http://www.w3.org/2000/svg\" xmlns:xlink=\"http://www.w3.org/1999/xlink\">\r\n",
       "<g id=\"graph0\" class=\"graph\" transform=\"scale(1 1) rotate(0) translate(71.7271 64.3204)\">\r\n",
       "<title>graphe</title>\r\n",
       "<polygon fill=\"white\" stroke=\"none\" points=\"-71.7271,132.797 -71.7271,-64.3204 113.762,-64.3204 113.762,132.797 -71.7271,132.797\"/>\r\n",
       "<text text-anchor=\"middle\" x=\"21.0173\" y=\"120.997\" font-family=\"Times New Roman,serif\" font-size=\"14.00\">Graphe</text>\r\n",
       "<!-- A -->\r\n",
       "<g id=\"node1\" class=\"node\"><title>A</title>\r\n",
       "<ellipse fill=\"#ccffff\" stroke=\"#ccffff\" cx=\"-26.7533\" cy=\"25.1032\" rx=\"12.5\" ry=\"12.5\"/>\r\n",
       "<text text-anchor=\"start\" x=\"-31.2533\" y=\"27.2032\" font-family=\"Times New Roman,serif\" font-weight=\"bold\" font-size=\"12.00\">A</text>\r\n",
       "</g>\r\n",
       "<!-- B -->\r\n",
       "<g id=\"node2\" class=\"node\"><title>B</title>\r\n",
       "<ellipse fill=\"#ccffff\" stroke=\"#ccffff\" cx=\"27.1675\" cy=\"-24.5606\" rx=\"12.5\" ry=\"12.5\"/>\r\n",
       "<text text-anchor=\"start\" x=\"22.6675\" y=\"-22.4606\" font-family=\"Times New Roman,serif\" font-weight=\"bold\" font-size=\"12.00\">B</text>\r\n",
       "</g>\r\n",
       "<!-- A&#45;&#45;B -->\r\n",
       "<g id=\"edge1\" class=\"edge\"><title>A&#45;&#45;B</title>\r\n",
       "<path fill=\"none\" stroke=\"black\" d=\"M-17.361,16.4524C-7.46422,7.33697 8.02683,-6.93107 17.8829,-16.009\"/>\r\n",
       "</g>\r\n",
       "<!-- C -->\r\n",
       "<g id=\"node3\" class=\"node\"><title>C</title>\r\n",
       "<ellipse fill=\"#ccffff\" stroke=\"#ccffff\" cx=\"-55.2271\" cy=\"93.2965\" rx=\"12.5\" ry=\"12.5\"/>\r\n",
       "<text text-anchor=\"start\" x=\"-59.7271\" y=\"95.3965\" font-family=\"Times New Roman,serif\" font-weight=\"bold\" font-size=\"12.00\">C</text>\r\n",
       "</g>\r\n",
       "<!-- A&#45;&#45;C -->\r\n",
       "<g id=\"edge2\" class=\"edge\"><title>A&#45;&#45;C</title>\r\n",
       "<path fill=\"none\" stroke=\"black\" d=\"M-31.5835,36.6713C-36.7877,49.1352 -45.0274,68.8687 -50.2775,81.4425\"/>\r\n",
       "</g>\r\n",
       "<!-- D -->\r\n",
       "<g id=\"node4\" class=\"node\"><title>D</title>\r\n",
       "<ellipse fill=\"#ccffff\" stroke=\"#ccffff\" cx=\"-42.4488\" cy=\"-46.0187\" rx=\"12.5\" ry=\"12.5\"/>\r\n",
       "<text text-anchor=\"start\" x=\"-47.4488\" y=\"-43.9187\" font-family=\"Times New Roman,serif\" font-weight=\"bold\" font-size=\"12.00\">D</text>\r\n",
       "</g>\r\n",
       "<!-- A&#45;&#45;D -->\r\n",
       "<g id=\"edge3\" class=\"edge\"><title>A&#45;&#45;D</title>\r\n",
       "<path fill=\"none\" stroke=\"black\" d=\"M-29.4873,12.7147C-32.3681,-0.339248 -36.8773,-20.772 -39.7462,-33.7722\"/>\r\n",
       "</g>\r\n",
       "<!-- B&#45;&#45;D -->\r\n",
       "<g id=\"edge4\" class=\"edge\"><title>B&#45;&#45;D</title>\r\n",
       "<path fill=\"none\" stroke=\"black\" d=\"M15.0413,-28.2983C2.26367,-32.2368 -17.7366,-38.4016 -30.4615,-42.3238\"/>\r\n",
       "</g>\r\n",
       "<!-- E -->\r\n",
       "<g id=\"node5\" class=\"node\"><title>E</title>\r\n",
       "<ellipse fill=\"#ccffff\" stroke=\"#ccffff\" cx=\"97.2617\" cy=\"-47.8204\" rx=\"12.5\" ry=\"12.5\"/>\r\n",
       "<text text-anchor=\"start\" x=\"93.2617\" y=\"-45.7204\" font-family=\"Times New Roman,serif\" font-weight=\"bold\" font-size=\"12.00\">E</text>\r\n",
       "</g>\r\n",
       "<!-- B&#45;&#45;E -->\r\n",
       "<g id=\"edge5\" class=\"edge\"><title>B&#45;&#45;E</title>\r\n",
       "<path fill=\"none\" stroke=\"black\" d=\"M39.058,-28.5063C51.8694,-32.7576 72.153,-39.4884 85.0772,-43.7772\"/>\r\n",
       "</g>\r\n",
       "</g>\r\n",
       "</svg>\r\n"
      ],
      "text/plain": [
       "<graphviz.dot.Graph at 0x23b3cd18970>"
      ]
     },
     "metadata": {},
     "output_type": "display_data"
    }
   ],
   "source": [
    "ma_liste = {'A':['B', 'C', 'D'],\n",
    "            'B':['A', 'D', 'E'],\n",
    "            'C':['A'],\n",
    "            'D':['A', 'B'],\n",
    "            'E':['B']}\n",
    "\n",
    "v = VizuGraphe('liste', ma_liste)"
   ]
  },
  {
   "cell_type": "markdown",
   "metadata": {},
   "source": [
    "`v` pourra être utilisé ensuite pour redessiner ou enregistrer le graphe.  \n",
    "\n",
    "**MAJ :** voir au I.6 pour des paramètres additionnels que l'on peut désormais passer dès l'appel à VizuGraphe, sans forcément passer par `modifier`."
   ]
  },
  {
   "cell_type": "markdown",
   "metadata": {},
   "source": [
    "## I.2 : graphe défini par une liste d'adjacence pondérée (paramètre `'liste_pond'`)"
   ]
  },
  {
   "cell_type": "code",
   "execution_count": 3,
   "metadata": {},
   "outputs": [
    {
     "data": {
      "image/svg+xml": [
       "<?xml version=\"1.0\" encoding=\"UTF-8\" standalone=\"no\"?>\r\n",
       "<!DOCTYPE svg PUBLIC \"-//W3C//DTD SVG 1.1//EN\"\r\n",
       " \"http://www.w3.org/Graphics/SVG/1.1/DTD/svg11.dtd\">\r\n",
       "<!-- Generated by graphviz version 2.38.0 (20140413.2041)\r\n",
       " -->\r\n",
       "<!-- Title: graphe Pages: 1 -->\r\n",
       "<svg width=\"185pt\" height=\"197pt\"\r\n",
       " viewBox=\"0.00 0.00 185.49 197.12\" xmlns=\"http://www.w3.org/2000/svg\" xmlns:xlink=\"http://www.w3.org/1999/xlink\">\r\n",
       "<g id=\"graph0\" class=\"graph\" transform=\"scale(1 1) rotate(0) translate(71.7271 64.3204)\">\r\n",
       "<title>graphe</title>\r\n",
       "<polygon fill=\"white\" stroke=\"none\" points=\"-71.7271,132.797 -71.7271,-64.3204 113.762,-64.3204 113.762,132.797 -71.7271,132.797\"/>\r\n",
       "<text text-anchor=\"middle\" x=\"21.0173\" y=\"120.997\" font-family=\"Times New Roman,serif\" font-size=\"14.00\">Graphe</text>\r\n",
       "<!-- A -->\r\n",
       "<g id=\"node1\" class=\"node\"><title>A</title>\r\n",
       "<ellipse fill=\"#ccffff\" stroke=\"#ccffff\" cx=\"-26.7533\" cy=\"25.1032\" rx=\"12.5\" ry=\"12.5\"/>\r\n",
       "<text text-anchor=\"start\" x=\"-31.2533\" y=\"27.2032\" font-family=\"Times New Roman,serif\" font-weight=\"bold\" font-size=\"12.00\">A</text>\r\n",
       "</g>\r\n",
       "<!-- B -->\r\n",
       "<g id=\"node2\" class=\"node\"><title>B</title>\r\n",
       "<ellipse fill=\"#ccffff\" stroke=\"#ccffff\" cx=\"27.1675\" cy=\"-24.5606\" rx=\"12.5\" ry=\"12.5\"/>\r\n",
       "<text text-anchor=\"start\" x=\"22.6675\" y=\"-22.4606\" font-family=\"Times New Roman,serif\" font-weight=\"bold\" font-size=\"12.00\">B</text>\r\n",
       "</g>\r\n",
       "<!-- A&#45;&#45;B -->\r\n",
       "<g id=\"edge1\" class=\"edge\"><title>A&#45;&#45;B</title>\r\n",
       "<path fill=\"none\" stroke=\"black\" d=\"M-17.361,16.4524C-7.46422,7.33697 8.02683,-6.93107 17.8829,-16.009\"/>\r\n",
       "<text text-anchor=\"middle\" x=\"-3.23909\" y=\"-3.17826\" font-family=\"Times New Roman,serif\" font-size=\"12.00\">3</text>\r\n",
       "</g>\r\n",
       "<!-- C -->\r\n",
       "<g id=\"node3\" class=\"node\"><title>C</title>\r\n",
       "<ellipse fill=\"#ccffff\" stroke=\"#ccffff\" cx=\"-55.2271\" cy=\"93.2965\" rx=\"12.5\" ry=\"12.5\"/>\r\n",
       "<text text-anchor=\"start\" x=\"-59.7271\" y=\"95.3965\" font-family=\"Times New Roman,serif\" font-weight=\"bold\" font-size=\"12.00\">C</text>\r\n",
       "</g>\r\n",
       "<!-- A&#45;&#45;C -->\r\n",
       "<g id=\"edge2\" class=\"edge\"><title>A&#45;&#45;C</title>\r\n",
       "<path fill=\"none\" stroke=\"black\" d=\"M-31.5835,36.6713C-36.7877,49.1352 -45.0274,68.8687 -50.2775,81.4425\"/>\r\n",
       "<text text-anchor=\"middle\" x=\"-47.4305\" y=\"55.6569\" font-family=\"Times New Roman,serif\" font-size=\"12.00\">10</text>\r\n",
       "</g>\r\n",
       "<!-- D -->\r\n",
       "<g id=\"node4\" class=\"node\"><title>D</title>\r\n",
       "<ellipse fill=\"#ccffff\" stroke=\"#ccffff\" cx=\"-42.4488\" cy=\"-46.0187\" rx=\"12.5\" ry=\"12.5\"/>\r\n",
       "<text text-anchor=\"start\" x=\"-47.4488\" y=\"-43.9187\" font-family=\"Times New Roman,serif\" font-weight=\"bold\" font-size=\"12.00\">D</text>\r\n",
       "</g>\r\n",
       "<!-- A&#45;&#45;D -->\r\n",
       "<g id=\"edge3\" class=\"edge\"><title>A&#45;&#45;D</title>\r\n",
       "<path fill=\"none\" stroke=\"black\" d=\"M-29.4873,12.7147C-32.3681,-0.339248 -36.8773,-20.772 -39.7462,-33.7722\"/>\r\n",
       "<text text-anchor=\"middle\" x=\"-41.1167\" y=\"-13.9287\" font-family=\"Times New Roman,serif\" font-size=\"12.00\">14</text>\r\n",
       "</g>\r\n",
       "<!-- B&#45;&#45;D -->\r\n",
       "<g id=\"edge4\" class=\"edge\"><title>B&#45;&#45;D</title>\r\n",
       "<path fill=\"none\" stroke=\"black\" d=\"M15.0413,-28.2983C2.26367,-32.2368 -17.7366,-38.4016 -30.4615,-42.3238\"/>\r\n",
       "<text text-anchor=\"middle\" x=\"-11.2101\" y=\"-38.7111\" font-family=\"Times New Roman,serif\" font-size=\"12.00\">9</text>\r\n",
       "</g>\r\n",
       "<!-- E -->\r\n",
       "<g id=\"node5\" class=\"node\"><title>E</title>\r\n",
       "<ellipse fill=\"#ccffff\" stroke=\"#ccffff\" cx=\"97.2617\" cy=\"-47.8204\" rx=\"12.5\" ry=\"12.5\"/>\r\n",
       "<text text-anchor=\"start\" x=\"93.2617\" y=\"-45.7204\" font-family=\"Times New Roman,serif\" font-weight=\"bold\" font-size=\"12.00\">E</text>\r\n",
       "</g>\r\n",
       "<!-- B&#45;&#45;E -->\r\n",
       "<g id=\"edge5\" class=\"edge\"><title>B&#45;&#45;E</title>\r\n",
       "<path fill=\"none\" stroke=\"black\" d=\"M39.058,-28.5063C51.8694,-32.7576 72.153,-39.4884 85.0772,-43.7772\"/>\r\n",
       "<text text-anchor=\"middle\" x=\"58.5676\" y=\"-39.5417\" font-family=\"Times New Roman,serif\" font-size=\"12.00\">0</text>\r\n",
       "</g>\r\n",
       "</g>\r\n",
       "</svg>\r\n"
      ],
      "text/plain": [
       "<graphviz.dot.Graph at 0x23b3cd18f70>"
      ]
     },
     "metadata": {},
     "output_type": "display_data"
    }
   ],
   "source": [
    "ma_liste = {'A':{'B':3, 'C':10, 'D':14},\n",
    "            'B':{'A':3, 'D':9, 'E':0},\n",
    "            'C':{'A':10},\n",
    "            'D':{'A':14, 'B':9},\n",
    "            'E':{'B':0}}\n",
    "\n",
    "v = VizuGraphe('liste_pond', ma_liste)"
   ]
  },
  {
   "cell_type": "markdown",
   "metadata": {},
   "source": [
    "`v` pourra être utilisé ensuite pour redessiner ou enregistrer le graphe.  \n",
    "\n",
    "Remarquer que contrairement à la matrice pondérée (voir plus bas) le poids 0 entraîne le dessin d'une arête.  \n",
    "\n",
    "**MAJ :** voir au I.6 pour des paramètres additionnels que l'on peut désormais passer dès l'appel à VizuGraphe, sans forcément passer par `modifier`."
   ]
  },
  {
   "cell_type": "markdown",
   "metadata": {},
   "source": [
    "## I.3 : graphe défini par une matrice de booléens (paramètre `'matrice_bool'`)"
   ]
  },
  {
   "cell_type": "code",
   "execution_count": 4,
   "metadata": {},
   "outputs": [
    {
     "data": {
      "image/svg+xml": [
       "<?xml version=\"1.0\" encoding=\"UTF-8\" standalone=\"no\"?>\r\n",
       "<!DOCTYPE svg PUBLIC \"-//W3C//DTD SVG 1.1//EN\"\r\n",
       " \"http://www.w3.org/Graphics/SVG/1.1/DTD/svg11.dtd\">\r\n",
       "<!-- Generated by graphviz version 2.38.0 (20140413.2041)\r\n",
       " -->\r\n",
       "<!-- Title: graphe Pages: 1 -->\r\n",
       "<svg width=\"185pt\" height=\"197pt\"\r\n",
       " viewBox=\"0.00 0.00 185.49 197.12\" xmlns=\"http://www.w3.org/2000/svg\" xmlns:xlink=\"http://www.w3.org/1999/xlink\">\r\n",
       "<g id=\"graph0\" class=\"graph\" transform=\"scale(1 1) rotate(0) translate(71.7271 64.3204)\">\r\n",
       "<title>graphe</title>\r\n",
       "<polygon fill=\"white\" stroke=\"none\" points=\"-71.7271,132.797 -71.7271,-64.3204 113.762,-64.3204 113.762,132.797 -71.7271,132.797\"/>\r\n",
       "<text text-anchor=\"middle\" x=\"21.0173\" y=\"120.997\" font-family=\"Times New Roman,serif\" font-size=\"14.00\">Graphe</text>\r\n",
       "<!-- 0 -->\r\n",
       "<g id=\"node1\" class=\"node\"><title>0</title>\r\n",
       "<ellipse fill=\"#ccffff\" stroke=\"#ccffff\" cx=\"-26.7533\" cy=\"25.1032\" rx=\"12.5\" ry=\"12.5\"/>\r\n",
       "<text text-anchor=\"start\" x=\"-30.2533\" y=\"27.2032\" font-family=\"Times New Roman,serif\" font-weight=\"bold\" font-size=\"12.00\">0</text>\r\n",
       "</g>\r\n",
       "<!-- 1 -->\r\n",
       "<g id=\"node2\" class=\"node\"><title>1</title>\r\n",
       "<ellipse fill=\"#ccffff\" stroke=\"#ccffff\" cx=\"27.1675\" cy=\"-24.5606\" rx=\"12.5\" ry=\"12.5\"/>\r\n",
       "<text text-anchor=\"start\" x=\"23.6675\" y=\"-22.4606\" font-family=\"Times New Roman,serif\" font-weight=\"bold\" font-size=\"12.00\">1</text>\r\n",
       "</g>\r\n",
       "<!-- 0&#45;&#45;1 -->\r\n",
       "<g id=\"edge1\" class=\"edge\"><title>0&#45;&#45;1</title>\r\n",
       "<path fill=\"none\" stroke=\"black\" d=\"M-17.361,16.4524C-7.46422,7.33697 8.02683,-6.93107 17.8829,-16.009\"/>\r\n",
       "</g>\r\n",
       "<!-- 2 -->\r\n",
       "<g id=\"node3\" class=\"node\"><title>2</title>\r\n",
       "<ellipse fill=\"#ccffff\" stroke=\"#ccffff\" cx=\"-55.2271\" cy=\"93.2965\" rx=\"12.5\" ry=\"12.5\"/>\r\n",
       "<text text-anchor=\"start\" x=\"-58.7271\" y=\"95.3965\" font-family=\"Times New Roman,serif\" font-weight=\"bold\" font-size=\"12.00\">2</text>\r\n",
       "</g>\r\n",
       "<!-- 0&#45;&#45;2 -->\r\n",
       "<g id=\"edge2\" class=\"edge\"><title>0&#45;&#45;2</title>\r\n",
       "<path fill=\"none\" stroke=\"black\" d=\"M-31.5835,36.6713C-36.7877,49.1352 -45.0274,68.8687 -50.2775,81.4425\"/>\r\n",
       "</g>\r\n",
       "<!-- 3 -->\r\n",
       "<g id=\"node4\" class=\"node\"><title>3</title>\r\n",
       "<ellipse fill=\"#ccffff\" stroke=\"#ccffff\" cx=\"-42.4488\" cy=\"-46.0187\" rx=\"12.5\" ry=\"12.5\"/>\r\n",
       "<text text-anchor=\"start\" x=\"-45.9488\" y=\"-43.9187\" font-family=\"Times New Roman,serif\" font-weight=\"bold\" font-size=\"12.00\">3</text>\r\n",
       "</g>\r\n",
       "<!-- 0&#45;&#45;3 -->\r\n",
       "<g id=\"edge3\" class=\"edge\"><title>0&#45;&#45;3</title>\r\n",
       "<path fill=\"none\" stroke=\"black\" d=\"M-29.4873,12.7147C-32.3681,-0.339248 -36.8773,-20.772 -39.7462,-33.7722\"/>\r\n",
       "</g>\r\n",
       "<!-- 1&#45;&#45;3 -->\r\n",
       "<g id=\"edge4\" class=\"edge\"><title>1&#45;&#45;3</title>\r\n",
       "<path fill=\"none\" stroke=\"black\" d=\"M15.0413,-28.2983C2.26367,-32.2368 -17.7366,-38.4016 -30.4615,-42.3238\"/>\r\n",
       "</g>\r\n",
       "<!-- 4 -->\r\n",
       "<g id=\"node5\" class=\"node\"><title>4</title>\r\n",
       "<ellipse fill=\"#ccffff\" stroke=\"#ccffff\" cx=\"97.2617\" cy=\"-47.8204\" rx=\"12.5\" ry=\"12.5\"/>\r\n",
       "<text text-anchor=\"start\" x=\"93.7617\" y=\"-45.7204\" font-family=\"Times New Roman,serif\" font-weight=\"bold\" font-size=\"12.00\">4</text>\r\n",
       "</g>\r\n",
       "<!-- 1&#45;&#45;4 -->\r\n",
       "<g id=\"edge5\" class=\"edge\"><title>1&#45;&#45;4</title>\r\n",
       "<path fill=\"none\" stroke=\"black\" d=\"M39.058,-28.5063C51.8694,-32.7576 72.153,-39.4884 85.0772,-43.7772\"/>\r\n",
       "</g>\r\n",
       "</g>\r\n",
       "</svg>\r\n"
      ],
      "text/plain": [
       "<graphviz.dot.Graph at 0x23b3cd64a00>"
      ]
     },
     "metadata": {},
     "output_type": "display_data"
    }
   ],
   "source": [
    "ma_matrice = [[False, True,  True,  True,  False],\n",
    "              [True,  False, False, True,  True ],\n",
    "              [True,  False, False, False, False],\n",
    "              [True,  True,  False, False, False],\n",
    "              [False, True,  False, False, False]]\n",
    "\n",
    "v = VizuGraphe('matrice_bool', ma_matrice)\n",
    "        "
   ]
  },
  {
   "cell_type": "markdown",
   "metadata": {},
   "source": [
    "Avec les matrices de taille `NxN`, les sommets sont par défaut numérotés de `0` à `N-1`.  \n",
    "Nous verrons que l'on peut facilement rajouter des étiquettes quelconques."
   ]
  },
  {
   "cell_type": "markdown",
   "metadata": {},
   "source": [
    "`v` pourra être utilisé ensuite pour redessiner ou enregistrer le graphe.  \n",
    "\n",
    "**MAJ :** voir au I.6 pour des paramètres additionnels que l'on peut désormais passer dès l'appel à VizuGraphe, sans forcément passer par `modifier`."
   ]
  },
  {
   "cell_type": "markdown",
   "metadata": {},
   "source": [
    "## I.4 : graphe défini par une matrice de zéros et de uns (paramètre `'matrice_bin'`)"
   ]
  },
  {
   "cell_type": "code",
   "execution_count": 5,
   "metadata": {},
   "outputs": [
    {
     "data": {
      "image/svg+xml": [
       "<?xml version=\"1.0\" encoding=\"UTF-8\" standalone=\"no\"?>\r\n",
       "<!DOCTYPE svg PUBLIC \"-//W3C//DTD SVG 1.1//EN\"\r\n",
       " \"http://www.w3.org/Graphics/SVG/1.1/DTD/svg11.dtd\">\r\n",
       "<!-- Generated by graphviz version 2.38.0 (20140413.2041)\r\n",
       " -->\r\n",
       "<!-- Title: graphe Pages: 1 -->\r\n",
       "<svg width=\"185pt\" height=\"197pt\"\r\n",
       " viewBox=\"0.00 0.00 185.49 197.12\" xmlns=\"http://www.w3.org/2000/svg\" xmlns:xlink=\"http://www.w3.org/1999/xlink\">\r\n",
       "<g id=\"graph0\" class=\"graph\" transform=\"scale(1 1) rotate(0) translate(71.7271 64.3204)\">\r\n",
       "<title>graphe</title>\r\n",
       "<polygon fill=\"white\" stroke=\"none\" points=\"-71.7271,132.797 -71.7271,-64.3204 113.762,-64.3204 113.762,132.797 -71.7271,132.797\"/>\r\n",
       "<text text-anchor=\"middle\" x=\"21.0173\" y=\"120.997\" font-family=\"Times New Roman,serif\" font-size=\"14.00\">Graphe</text>\r\n",
       "<!-- 0 -->\r\n",
       "<g id=\"node1\" class=\"node\"><title>0</title>\r\n",
       "<ellipse fill=\"#ccffff\" stroke=\"#ccffff\" cx=\"-26.7533\" cy=\"25.1032\" rx=\"12.5\" ry=\"12.5\"/>\r\n",
       "<text text-anchor=\"start\" x=\"-30.2533\" y=\"27.2032\" font-family=\"Times New Roman,serif\" font-weight=\"bold\" font-size=\"12.00\">0</text>\r\n",
       "</g>\r\n",
       "<!-- 1 -->\r\n",
       "<g id=\"node2\" class=\"node\"><title>1</title>\r\n",
       "<ellipse fill=\"#ccffff\" stroke=\"#ccffff\" cx=\"27.1675\" cy=\"-24.5606\" rx=\"12.5\" ry=\"12.5\"/>\r\n",
       "<text text-anchor=\"start\" x=\"23.6675\" y=\"-22.4606\" font-family=\"Times New Roman,serif\" font-weight=\"bold\" font-size=\"12.00\">1</text>\r\n",
       "</g>\r\n",
       "<!-- 0&#45;&#45;1 -->\r\n",
       "<g id=\"edge1\" class=\"edge\"><title>0&#45;&#45;1</title>\r\n",
       "<path fill=\"none\" stroke=\"black\" d=\"M-17.361,16.4524C-7.46422,7.33697 8.02683,-6.93107 17.8829,-16.009\"/>\r\n",
       "</g>\r\n",
       "<!-- 2 -->\r\n",
       "<g id=\"node3\" class=\"node\"><title>2</title>\r\n",
       "<ellipse fill=\"#ccffff\" stroke=\"#ccffff\" cx=\"-55.2271\" cy=\"93.2965\" rx=\"12.5\" ry=\"12.5\"/>\r\n",
       "<text text-anchor=\"start\" x=\"-58.7271\" y=\"95.3965\" font-family=\"Times New Roman,serif\" font-weight=\"bold\" font-size=\"12.00\">2</text>\r\n",
       "</g>\r\n",
       "<!-- 0&#45;&#45;2 -->\r\n",
       "<g id=\"edge2\" class=\"edge\"><title>0&#45;&#45;2</title>\r\n",
       "<path fill=\"none\" stroke=\"black\" d=\"M-31.5835,36.6713C-36.7877,49.1352 -45.0274,68.8687 -50.2775,81.4425\"/>\r\n",
       "</g>\r\n",
       "<!-- 3 -->\r\n",
       "<g id=\"node4\" class=\"node\"><title>3</title>\r\n",
       "<ellipse fill=\"#ccffff\" stroke=\"#ccffff\" cx=\"-42.4488\" cy=\"-46.0187\" rx=\"12.5\" ry=\"12.5\"/>\r\n",
       "<text text-anchor=\"start\" x=\"-45.9488\" y=\"-43.9187\" font-family=\"Times New Roman,serif\" font-weight=\"bold\" font-size=\"12.00\">3</text>\r\n",
       "</g>\r\n",
       "<!-- 0&#45;&#45;3 -->\r\n",
       "<g id=\"edge3\" class=\"edge\"><title>0&#45;&#45;3</title>\r\n",
       "<path fill=\"none\" stroke=\"black\" d=\"M-29.4873,12.7147C-32.3681,-0.339248 -36.8773,-20.772 -39.7462,-33.7722\"/>\r\n",
       "</g>\r\n",
       "<!-- 1&#45;&#45;3 -->\r\n",
       "<g id=\"edge4\" class=\"edge\"><title>1&#45;&#45;3</title>\r\n",
       "<path fill=\"none\" stroke=\"black\" d=\"M15.0413,-28.2983C2.26367,-32.2368 -17.7366,-38.4016 -30.4615,-42.3238\"/>\r\n",
       "</g>\r\n",
       "<!-- 4 -->\r\n",
       "<g id=\"node5\" class=\"node\"><title>4</title>\r\n",
       "<ellipse fill=\"#ccffff\" stroke=\"#ccffff\" cx=\"97.2617\" cy=\"-47.8204\" rx=\"12.5\" ry=\"12.5\"/>\r\n",
       "<text text-anchor=\"start\" x=\"93.7617\" y=\"-45.7204\" font-family=\"Times New Roman,serif\" font-weight=\"bold\" font-size=\"12.00\">4</text>\r\n",
       "</g>\r\n",
       "<!-- 1&#45;&#45;4 -->\r\n",
       "<g id=\"edge5\" class=\"edge\"><title>1&#45;&#45;4</title>\r\n",
       "<path fill=\"none\" stroke=\"black\" d=\"M39.058,-28.5063C51.8694,-32.7576 72.153,-39.4884 85.0772,-43.7772\"/>\r\n",
       "</g>\r\n",
       "</g>\r\n",
       "</svg>\r\n"
      ],
      "text/plain": [
       "<graphviz.dot.Graph at 0x23b3cd64df0>"
      ]
     },
     "metadata": {},
     "output_type": "display_data"
    }
   ],
   "source": [
    "ma_matrice = [[0, 1, 1, 1, 0],\n",
    "              [1, 0, 0, 1, 1],\n",
    "              [1, 0, 0, 0, 0],\n",
    "              [1, 1, 0, 0, 0],\n",
    "              [0, 1, 0, 0, 0]]\n",
    "\n",
    "v = VizuGraphe('matrice_bin', ma_matrice)"
   ]
  },
  {
   "cell_type": "markdown",
   "metadata": {},
   "source": [
    "`v` pourra être utilisé ensuite pour redessiner ou enregistrer le graphe.  \n",
    "\n",
    "**MAJ :** voir au I.6 pour des paramètres additionnels que l'on peut désormais passer dès l'appel à VizuGraphe, sans forcément passer par `modifier`."
   ]
  },
  {
   "cell_type": "markdown",
   "metadata": {},
   "source": [
    "## I.5 : graphe défini par une matrice pondérée de scalaires (paramètre `'matrice_pond'`)"
   ]
  },
  {
   "cell_type": "code",
   "execution_count": 8,
   "metadata": {},
   "outputs": [
    {
     "data": {
      "image/svg+xml": [
       "<?xml version=\"1.0\" encoding=\"UTF-8\" standalone=\"no\"?>\r\n",
       "<!DOCTYPE svg PUBLIC \"-//W3C//DTD SVG 1.1//EN\"\r\n",
       " \"http://www.w3.org/Graphics/SVG/1.1/DTD/svg11.dtd\">\r\n",
       "<!-- Generated by graphviz version 2.38.0 (20140413.2041)\r\n",
       " -->\r\n",
       "<!-- Title: graphe Pages: 1 -->\r\n",
       "<svg width=\"200pt\" height=\"212pt\"\r\n",
       " viewBox=\"0.00 0.00 200.49 212.12\" xmlns=\"http://www.w3.org/2000/svg\" xmlns:xlink=\"http://www.w3.org/1999/xlink\">\r\n",
       "<g id=\"graph0\" class=\"graph\" transform=\"scale(1 1) rotate(0) translate(79.2271 71.8204)\">\r\n",
       "<title>graphe</title>\r\n",
       "<polygon fill=\"white\" stroke=\"none\" points=\"-79.2271,140.297 -79.2271,-71.8204 121.262,-71.8204 121.262,140.297 -79.2271,140.297\"/>\r\n",
       "<text text-anchor=\"middle\" x=\"21.0173\" y=\"128.497\" font-family=\"Times New Roman,serif\" font-size=\"14.00\">Graphe</text>\r\n",
       "<!-- 0 -->\r\n",
       "<g id=\"node1\" class=\"node\"><title>0</title>\r\n",
       "<ellipse fill=\"#ccffff\" stroke=\"#ccffff\" cx=\"-26.7533\" cy=\"25.1032\" rx=\"20\" ry=\"20\"/>\r\n",
       "<text text-anchor=\"start\" x=\"-30.2533\" y=\"27.2032\" font-family=\"Times New Roman,serif\" font-weight=\"bold\" font-size=\"12.00\">0</text>\r\n",
       "</g>\r\n",
       "<!-- 2 -->\r\n",
       "<g id=\"node3\" class=\"node\"><title>2</title>\r\n",
       "<ellipse fill=\"#ccffff\" stroke=\"#ccffff\" cx=\"-55.2271\" cy=\"93.2965\" rx=\"20\" ry=\"20\"/>\r\n",
       "<text text-anchor=\"start\" x=\"-58.7271\" y=\"95.3965\" font-family=\"Times New Roman,serif\" font-weight=\"bold\" font-size=\"12.00\">2</text>\r\n",
       "</g>\r\n",
       "<!-- 0&#45;&gt;2 -->\r\n",
       "<g id=\"edge1\" class=\"edge\"><title>0&#45;&gt;2</title>\r\n",
       "<path fill=\"none\" stroke=\"black\" d=\"M-34.5339,43.7373C-37.9238,51.856 -41.9333,61.4586 -45.5161,70.0391\"/>\r\n",
       "<polygon fill=\"black\" stroke=\"black\" points=\"-47.4559,74.6849 -43.453,70.9379 -46.4926,72.3779 -45.5293,70.071 -45.5293,70.071 -45.5293,70.071 -46.4926,72.3779 -47.6056,69.204 -47.4559,74.6849 -47.4559,74.6849\"/>\r\n",
       "<text text-anchor=\"middle\" x=\"-43.525\" y=\"66.4882\" font-family=\"Times New Roman,serif\" font-size=\"12.00\">4</text>\r\n",
       "</g>\r\n",
       "<!-- 1 -->\r\n",
       "<g id=\"node2\" class=\"node\"><title>1</title>\r\n",
       "<ellipse fill=\"#ccffff\" stroke=\"#ccffff\" cx=\"27.1675\" cy=\"-24.5606\" rx=\"20\" ry=\"20\"/>\r\n",
       "<text text-anchor=\"start\" x=\"23.6675\" y=\"-22.4606\" font-family=\"Times New Roman,serif\" font-weight=\"bold\" font-size=\"12.00\">1</text>\r\n",
       "</g>\r\n",
       "<!-- 1&#45;&gt;0 -->\r\n",
       "<g id=\"edge2\" class=\"edge\"><title>1&#45;&gt;0</title>\r\n",
       "<path fill=\"none\" stroke=\"black\" d=\"M12.4334,-10.9897C6.13278,-5.18655 -1.2981,1.65766 -7.98579,7.81736\"/>\r\n",
       "<polygon fill=\"black\" stroke=\"black\" points=\"-12.037,11.5488 -6.83495,9.81634 -10.1982,9.85506 -8.35928,8.16135 -8.35928,8.16135 -8.35928,8.16135 -10.1982,9.85506 -9.88361,6.50637 -12.037,11.5488 -12.037,11.5488\"/>\r\n",
       "<text text-anchor=\"middle\" x=\"-1.27619\" y=\"-4.98619\" font-family=\"Times New Roman,serif\" font-size=\"12.00\">2</text>\r\n",
       "</g>\r\n",
       "<!-- 3 -->\r\n",
       "<g id=\"node4\" class=\"node\"><title>3</title>\r\n",
       "<ellipse fill=\"#ccffff\" stroke=\"#ccffff\" cx=\"-42.4488\" cy=\"-46.0187\" rx=\"20\" ry=\"20\"/>\r\n",
       "<text text-anchor=\"start\" x=\"-45.9488\" y=\"-43.9187\" font-family=\"Times New Roman,serif\" font-weight=\"bold\" font-size=\"12.00\">3</text>\r\n",
       "</g>\r\n",
       "<!-- 1&#45;&gt;3 -->\r\n",
       "<g id=\"edge3\" class=\"edge\"><title>1&#45;&gt;3</title>\r\n",
       "<path fill=\"none\" stroke=\"black\" d=\"M7.10245,-24.4424C-1.70312,-26.3044 -12.0443,-29.356 -21.001,-32.697\"/>\r\n",
       "<polygon fill=\"black\" stroke=\"black\" points=\"-25.8159,-34.5772 -21.9769,-30.6625 -23.4872,-33.6678 -21.1584,-32.7584 -21.1584,-32.7584 -21.1584,-32.7584 -23.4872,-33.6678 -20.34,-34.8543 -25.8159,-34.5772 -25.8159,-34.5772\"/>\r\n",
       "<text text-anchor=\"middle\" x=\"-10.4493\" y=\"-31.9697\" font-family=\"Times New Roman,serif\" font-size=\"12.00\">1</text>\r\n",
       "</g>\r\n",
       "<!-- 4 -->\r\n",
       "<g id=\"node5\" class=\"node\"><title>4</title>\r\n",
       "<ellipse fill=\"#ccffff\" stroke=\"#ccffff\" cx=\"97.2617\" cy=\"-47.8204\" rx=\"20\" ry=\"20\"/>\r\n",
       "<text text-anchor=\"start\" x=\"93.7617\" y=\"-45.7204\" font-family=\"Times New Roman,serif\" font-weight=\"bold\" font-size=\"12.00\">4</text>\r\n",
       "</g>\r\n",
       "<!-- 1&#45;&gt;4 -->\r\n",
       "<g id=\"edge4\" class=\"edge\"><title>1&#45;&gt;4</title>\r\n",
       "<path fill=\"none\" stroke=\"black\" d=\"M46.3211,-30.9164C54.6661,-33.6856 64.5363,-36.9609 73.3559,-39.8876\"/>\r\n",
       "<polygon fill=\"black\" stroke=\"black\" points=\"78.1313,-41.4722 72.6771,-42.0329 75.7585,-40.6848 73.3857,-39.8974 73.3857,-39.8974 73.3857,-39.8974 75.7585,-40.6848 74.0944,-37.7619 78.1313,-41.4722 78.1313,-41.4722\"/>\r\n",
       "<text text-anchor=\"middle\" x=\"56.3385\" y=\"-38.802\" font-family=\"Times New Roman,serif\" font-size=\"12.00\">1</text>\r\n",
       "</g>\r\n",
       "<!-- 3&#45;&gt;0 -->\r\n",
       "<g id=\"edge5\" class=\"edge\"><title>3&#45;&gt;0</title>\r\n",
       "<path fill=\"none\" stroke=\"black\" d=\"M-38.0767,-26.2073C-36.2739,-18.0382 -34.1645,-8.47954 -32.2581,0.158927\"/>\r\n",
       "<polygon fill=\"black\" stroke=\"black\" points=\"-31.1019,5.39802 -29.9824,0.0305968 -31.6407,2.95676 -32.1795,0.515502 -32.1795,0.515502 -32.1795,0.515502 -31.6407,2.95676 -34.3766,1.00041 -31.1019,5.39802 -31.1019,5.39802\"/>\r\n",
       "<text text-anchor=\"middle\" x=\"-38.6674\" y=\"-16.4242\" font-family=\"Times New Roman,serif\" font-size=\"12.00\">3</text>\r\n",
       "</g>\r\n",
       "<!-- 3&#45;&gt;1 -->\r\n",
       "<g id=\"edge6\" class=\"edge\"><title>3&#45;&gt;1</title>\r\n",
       "<path fill=\"none\" stroke=\"black\" d=\"M-22.3837,-46.1369C-13.5782,-44.2749 -3.23698,-41.2234 5.71969,-37.8823\"/>\r\n",
       "<polygon fill=\"black\" stroke=\"black\" points=\"10.5346,-36.0021 6.69558,-39.9168 8.20589,-36.9115 5.87713,-37.8209 5.87713,-37.8209 5.87713,-37.8209 8.20589,-36.9115 5.05869,-35.725 10.5346,-36.0021 10.5346,-36.0021\"/>\r\n",
       "<text text-anchor=\"middle\" x=\"-11.832\" y=\"-45.4096\" font-family=\"Times New Roman,serif\" font-size=\"12.00\">6</text>\r\n",
       "</g>\r\n",
       "</g>\r\n",
       "</svg>\r\n"
      ],
      "text/plain": [
       "<graphviz.dot.Digraph at 0x23b3cd641c0>"
      ]
     },
     "metadata": {},
     "output_type": "display_data"
    }
   ],
   "source": [
    "ma_matrice = [[0, 0, 4, 0, 0],\n",
    "              [2, 0, 0, 1, 1],\n",
    "              [0, 0, 0, 0, 0],\n",
    "              [3, 6, 0, 0, 0],\n",
    "              [0, 0, 0, 0, 0]]\n",
    "\n",
    "v = VizuGraphe('matrice_pond', ma_matrice, oriente = True, node_width = 0.55)"
   ]
  },
  {
   "cell_type": "markdown",
   "metadata": {},
   "source": [
    "`v` pourra être utilisé ensuite pour redessiner ou enregistrer le graphe.  \n",
    "\n",
    "Remarquer que contrairement à la liste d'adjacence pondérée, le poids 0 entraîne l'absence de dessin d'arête.\n",
    "\n",
    "**MAJ :** voir au I.6 pour des paramètres additionnels que l'on peut désormais passer dès l'appel à VizuGraphe, sans forcément passer par `modifier`."
   ]
  },
  {
   "cell_type": "markdown",
   "metadata": {},
   "source": [
    "## I.6 : modification a posteriori des paramètres par défaut\n",
    "\n",
    "On peut modifier **a posteriori** les paramètres de dessin par défaut. Voici un exemple avec tous les paramètres accessibles.\n",
    "\n",
    "**MAJ :** Ces paramètres peuvent également être passés en `kwargs` dès le dessin initial lors de la construction de VizuGraphe."
   ]
  },
  {
   "cell_type": "code",
   "execution_count": 7,
   "metadata": {},
   "outputs": [
    {
     "data": {
      "image/svg+xml": [
       "<?xml version=\"1.0\" encoding=\"UTF-8\" standalone=\"no\"?>\r\n",
       "<!DOCTYPE svg PUBLIC \"-//W3C//DTD SVG 1.1//EN\"\r\n",
       " \"http://www.w3.org/Graphics/SVG/1.1/DTD/svg11.dtd\">\r\n",
       "<!-- Generated by graphviz version 2.38.0 (20140413.2041)\r\n",
       " -->\r\n",
       "<!-- Title: graphe Pages: 1 -->\r\n",
       "<svg width=\"229pt\" height=\"202pt\"\r\n",
       " viewBox=\"0.00 0.00 229.22 202.40\" xmlns=\"http://www.w3.org/2000/svg\" xmlns:xlink=\"http://www.w3.org/1999/xlink\">\r\n",
       "<g id=\"graph0\" class=\"graph\" transform=\"scale(1 1) rotate(0) translate(4 198.398)\">\r\n",
       "<title>graphe</title>\r\n",
       "<polygon fill=\"white\" stroke=\"none\" points=\"-4,4 -4,-198.398 225.221,-198.398 225.221,4 -4,4\"/>\r\n",
       "<text text-anchor=\"middle\" x=\"110.611\" y=\"-7.8\" font-family=\"Times New Roman,serif\" font-size=\"14.00\">Blah</text>\r\n",
       "<!-- 0 -->\r\n",
       "<g id=\"node1\" class=\"node\"><title>0</title>\r\n",
       "<polygon fill=\"#d6ccff\" stroke=\"#d6ccff\" points=\"67.25,-121.218 42.25,-121.218 42.25,-103.218 67.25,-103.218 67.25,-121.218\"/>\r\n",
       "<text text-anchor=\"start\" x=\"51.25\" y=\"-110.118\" font-family=\"Times New Roman,serif\" font-weight=\"bold\" font-size=\"12.00\">0</text>\r\n",
       "</g>\r\n",
       "<!-- 2 -->\r\n",
       "<g id=\"node3\" class=\"node\"><title>2</title>\r\n",
       "<polygon fill=\"#d6ccff\" stroke=\"#d6ccff\" points=\"25,-194.398 -1.24345e-014,-194.398 -1.24345e-014,-176.398 25,-176.398 25,-194.398\"/>\r\n",
       "<text text-anchor=\"start\" x=\"9\" y=\"-183.298\" font-family=\"Times New Roman,serif\" font-weight=\"bold\" font-size=\"12.00\">2</text>\r\n",
       "</g>\r\n",
       "<!-- 0&#45;&gt;2 -->\r\n",
       "<g id=\"edge1\" class=\"edge\"><title>0&#45;&gt;2</title>\r\n",
       "<path fill=\"none\" stroke=\"black\" stroke-width=\"2\" d=\"M49.399,-121.487C41.7585,-134.72 27.7218,-159.033 19.3371,-173.555\"/>\r\n",
       "<polygon fill=\"black\" stroke=\"black\" stroke-width=\"2\" points=\"18.4333,-173.371 17.941,-175.973 19.9488,-174.246 18.4333,-173.371\"/>\r\n",
       "<text text-anchor=\"middle\" x=\"28.8681\" y=\"-153.521\" font-family=\"Times New Roman,serif\" font-size=\"20.00\">4</text>\r\n",
       "</g>\r\n",
       "<!-- 1 -->\r\n",
       "<g id=\"node2\" class=\"node\"><title>1</title>\r\n",
       "<polygon fill=\"#d6ccff\" stroke=\"#d6ccff\" points=\"136.721,-81.1092 111.721,-81.1092 111.721,-63.1092 136.721,-63.1092 136.721,-81.1092\"/>\r\n",
       "<text text-anchor=\"start\" x=\"120.721\" y=\"-70.0092\" font-family=\"Times New Roman,serif\" font-weight=\"bold\" font-size=\"12.00\">1</text>\r\n",
       "</g>\r\n",
       "<!-- 1&#45;&gt;0 -->\r\n",
       "<g id=\"edge2\" class=\"edge\"><title>1&#45;&gt;0</title>\r\n",
       "<path fill=\"none\" stroke=\"black\" stroke-width=\"2\" d=\"M111.479,-79.4658C99.7277,-86.2505 82.2711,-96.3291 69.8296,-103.512\"/>\r\n",
       "<polygon fill=\"black\" stroke=\"black\" stroke-width=\"2\" points=\"69.1389,-102.901 67.4113,-104.908 70.0139,-104.416 69.1389,-102.901\"/>\r\n",
       "<text text-anchor=\"middle\" x=\"85.1543\" y=\"-97.489\" font-family=\"Times New Roman,serif\" font-size=\"20.00\">2</text>\r\n",
       "</g>\r\n",
       "<!-- 3 -->\r\n",
       "<g id=\"node4\" class=\"node\"><title>3</title>\r\n",
       "<polygon fill=\"#d6ccff\" stroke=\"#d6ccff\" points=\"67.25,-41 42.25,-41 42.25,-23 67.25,-23 67.25,-41\"/>\r\n",
       "<text text-anchor=\"start\" x=\"51.25\" y=\"-29.9\" font-family=\"Times New Roman,serif\" font-weight=\"bold\" font-size=\"12.00\">3</text>\r\n",
       "</g>\r\n",
       "<!-- 1&#45;&gt;3 -->\r\n",
       "<g id=\"edge3\" class=\"edge\"><title>1&#45;&gt;3</title>\r\n",
       "<path fill=\"none\" stroke=\"black\" stroke-width=\"2\" d=\"M117.759,-62.9822C106.871,-53.7838 84.9995,-40.8964 70.0594,-34.6633\"/>\r\n",
       "<polygon fill=\"black\" stroke=\"black\" stroke-width=\"2\" points=\"70.1856,-33.771 67.5396,-33.6503 69.5328,-35.3947 70.1856,-33.771\"/>\r\n",
       "<text text-anchor=\"middle\" x=\"88.4093\" y=\"-32.8228\" font-family=\"Times New Roman,serif\" font-size=\"20.00\">1</text>\r\n",
       "</g>\r\n",
       "<!-- 4 -->\r\n",
       "<g id=\"node5\" class=\"node\"><title>4</title>\r\n",
       "<polygon fill=\"#d6ccff\" stroke=\"#d6ccff\" points=\"221.221,-81.1092 196.221,-81.1092 196.221,-63.1092 221.221,-63.1092 221.221,-81.1092\"/>\r\n",
       "<text text-anchor=\"start\" x=\"205.221\" y=\"-70.0092\" font-family=\"Times New Roman,serif\" font-weight=\"bold\" font-size=\"12.00\">4</text>\r\n",
       "</g>\r\n",
       "<!-- 1&#45;&gt;4 -->\r\n",
       "<g id=\"edge4\" class=\"edge\"><title>1&#45;&gt;4</title>\r\n",
       "<path fill=\"none\" stroke=\"black\" stroke-width=\"2\" d=\"M137.055,-72.1092C152.156,-72.1092 177.21,-72.1092 193.338,-72.1092\"/>\r\n",
       "<polygon fill=\"black\" stroke=\"black\" stroke-width=\"2\" points=\"193.544,-72.9843 196.043,-72.1092 193.543,-71.2343 193.544,-72.9843\"/>\r\n",
       "<text text-anchor=\"middle\" x=\"159.696\" y=\"-78.1092\" font-family=\"Times New Roman,serif\" font-size=\"20.00\">1</text>\r\n",
       "</g>\r\n",
       "<!-- 3&#45;&gt;0 -->\r\n",
       "<g id=\"edge5\" class=\"edge\"><title>3&#45;&gt;0</title>\r\n",
       "<path fill=\"none\" stroke=\"black\" stroke-width=\"2\" d=\"M54.75,-41.2021C54.75,-55.8297 54.75,-84.373 54.75,-100.462\"/>\r\n",
       "<polygon fill=\"black\" stroke=\"black\" stroke-width=\"2\" points=\"53.8751,-100.624 54.75,-103.124 55.6251,-100.624 53.8751,-100.624\"/>\r\n",
       "<text text-anchor=\"middle\" x=\"49.25\" y=\"-76.8318\" font-family=\"Times New Roman,serif\" font-size=\"20.00\">3</text>\r\n",
       "</g>\r\n",
       "<!-- 3&#45;&gt;1 -->\r\n",
       "<g id=\"edge6\" class=\"edge\"><title>3&#45;&gt;1</title>\r\n",
       "<path fill=\"none\" stroke=\"black\" stroke-width=\"2\" d=\"M61.212,-41.1269C72.1,-50.3254 93.9716,-63.2128 108.912,-69.4459\"/>\r\n",
       "<polygon fill=\"black\" stroke=\"black\" stroke-width=\"2\" points=\"108.786,-70.3382 111.432,-70.4589 109.438,-68.7145 108.786,-70.3382\"/>\r\n",
       "<text text-anchor=\"middle\" x=\"79.5618\" y=\"-61.2864\" font-family=\"Times New Roman,serif\" font-size=\"20.00\">6</text>\r\n",
       "</g>\r\n",
       "</g>\r\n",
       "</svg>\r\n"
      ],
      "text/plain": [
       "<graphviz.dot.Digraph at 0x23b3cd647f0>"
      ]
     },
     "metadata": {},
     "output_type": "display_data"
    }
   ],
   "source": [
    "v.modifier(label = 'Blah',\n",
    "            #size = 1,                 #à décommenter pour voir\n",
    "            moteur = 'circo',\n",
    "            oriente = True,\n",
    "            node_shape = 'rect',\n",
    "            node_width = 0.35,\n",
    "            node_height = 0.25,\n",
    "            node_color = (0.7, 0.2, 1),\n",
    "            node_fontsize = 12,\n",
    "            #node_small_fontsize = '8',  #ici pas d'étiquette secondaire : sans effet\n",
    "            #node_style = 'bold',        #à décommenter pour voir\n",
    "            #node_main = False           #à décommenter pour voir\n",
    "            edge_fontsize = 20, \n",
    "            edge_style = 'bold',\n",
    "            edge_arrowhead = 'normal',\n",
    "            edge_arrowsize = 0.25,\n",
    "            #reset = False                #inutile si aucune modification auparavant\n",
    "            )"
   ]
  },
  {
   "cell_type": "markdown",
   "metadata": {},
   "source": [
    "Pour plus de détails :"
   ]
  },
  {
   "cell_type": "code",
   "execution_count": null,
   "metadata": {},
   "outputs": [],
   "source": [
    "help(VizuGraphe.modifier)"
   ]
  },
  {
   "cell_type": "markdown",
   "metadata": {},
   "source": [
    "## I.7 : Export des graphiques\n",
    "\n",
    "Les graphiques peuvent être exportés dans différents formats, y compris en vectoriel. Voici quelques formats d'export pris en charge par graphviz :\n",
    "- `svg`\n",
    "- `png`\n",
    "- `pdf`\n",
    "- `tiff`\n",
    "- `jpg`\n",
    "- `ps` \n",
    "\n",
    "On pourra consulter https://graphviz.org/doc/info/output.html pour plus d'informations.\n",
    "\n",
    "**Remarque :** l'export produit également, en plus du fichier graphique, un fichier texte au format `graphviz` (sans extension, mais on pourra utilement rajouter l'extension `.gv`). "
   ]
  },
  {
   "cell_type": "code",
   "execution_count": null,
   "metadata": {},
   "outputs": [],
   "source": [
    "v.enregistrer(nom_fichier = 'mon_premier_export', format_image = 'png')"
   ]
  },
  {
   "cell_type": "markdown",
   "metadata": {},
   "source": [
    "Pour plus de détails :"
   ]
  },
  {
   "cell_type": "code",
   "execution_count": null,
   "metadata": {},
   "outputs": [],
   "source": [
    "help(VizuGraphe.enregistrer)"
   ]
  },
  {
   "cell_type": "markdown",
   "metadata": {},
   "source": [
    "# II : Différencier l'aspect des sommets entre eux"
   ]
  },
  {
   "cell_type": "markdown",
   "metadata": {},
   "source": [
    "Il parait intéressant de pouvoir disposer d'un graphe et de :\n",
    "- pouvoir afficher une information en plus sur chaque sommet (par exemple le numéro d'ordre lors d'un parcours),\n",
    "- pouvoir modifier la couleur des sommets,\n",
    "- pouvoir modifier la forme des sommets,\n",
    "- dans le cas des graphes représentés par des matrices, ajouter des étiquettes différentes des entiers par défaut,\n",
    "\n",
    "\n",
    "**Remarque : limitation dans le cas d'étiquettes identiques**  \n",
    "L'association `couleur <--> sommet` ou `information supplémentaire <--> sommet` ou `forme <--> sommet` est effectuée en se basant sur l'étiquette des sommets. S'il existe des sommets distincts portant la même étiquette, ils se verront attribuer la même chose.  "
   ]
  },
  {
   "cell_type": "markdown",
   "metadata": {},
   "source": [
    "## II.1 : Indiquer des informations individuelles secondaires sur certains sommets"
   ]
  },
  {
   "cell_type": "markdown",
   "metadata": {},
   "source": [
    "Elles sont rajoutées par l'intermédiaire d'un dictionnaire passé en paramètre `etiquettes_secondaires`. En pratique, ce dictionnaire a vocation à être généré lors d'un parcours de graphe. Un exemple est donné dans le notebook \"Exemples d'application\". Ici on se contente d'un cas fait à la main."
   ]
  },
  {
   "cell_type": "code",
   "execution_count": null,
   "metadata": {},
   "outputs": [],
   "source": [
    "ma_liste = {3:[7, 9, 4],\n",
    "            7:[3, 4, 6],\n",
    "            9:[3],\n",
    "            4:[3, 7],\n",
    "            6:[7]}\n",
    "\n",
    "mes_infos_en_plus = {3:'A',\n",
    "                     7:'b',\n",
    "                     #9:'0', pas d'informations en plus pour le sommet 9 ...\n",
    "                     4:'$',\n",
    "                     6:'g'}\n",
    "\n",
    "v = VizuGraphe('liste', ma_liste, etiquettes_secondaires = mes_infos_en_plus)"
   ]
  },
  {
   "cell_type": "markdown",
   "metadata": {},
   "source": [
    "## II.2 : Utiliser des couleurs individuelles sur certains sommets"
   ]
  },
  {
   "cell_type": "markdown",
   "metadata": {},
   "source": [
    "Elles sont modifiées par l'intermédiaire d'un dictionnaire passé en paramètre `couleurs`. En pratique, ce dictionnaire a vocation à être généré lors d'un parcours de graphe. Un exemple est donné dans le notebook \"Exemples d'application\". Ici on se contente d'un cas fait à la main.\n",
    "\n",
    "Les couleurs doivent être au format HSV https://fr.wikipedia.org/wiki/Teinte_Saturation_Valeur  \n",
    "L'intérêt de ce format (discutable) est qu'en jouant uniquement sur le paramètre `H`, on parcourt toutes les couleurs de l'arc en ciel."
   ]
  },
  {
   "cell_type": "code",
   "execution_count": null,
   "metadata": {},
   "outputs": [],
   "source": [
    "#pour les matrices de taille N, les clefs des dictionnaires vont de 0 à N-1\n",
    "\n",
    "ma_matrice = [[0, 1, 1, 1, 0],\n",
    "              [1, 0, 0, 1, 1],\n",
    "              [1, 0, 0, 0, 0],\n",
    "              [1, 1, 0, 0, 0],\n",
    "              [0, 1, 0, 0, 0]]\n",
    "\n",
    "mes_couleurs = {0:(1.00, 0.5, 1),\n",
    "                1:(0.80, 0.5, 1),\n",
    "                #2:(0.60, 0.5, 1),  #pas de modification de couleur pour le sommer 2\n",
    "                3:(0.40, 0.5, 1),\n",
    "                4:(0.20, 0.5, 1)}\n",
    "\n",
    "v = VizuGraphe('matrice_bin', ma_matrice, couleurs = mes_couleurs)"
   ]
  },
  {
   "cell_type": "markdown",
   "metadata": {},
   "source": [
    "## II.3 : Utiliser des formes individuelles sur certains sommets"
   ]
  },
  {
   "cell_type": "markdown",
   "metadata": {},
   "source": [
    "Elles sont modifiées par l'intermédiaire d'un dictionnaire passé en paramètre `formes`. En pratique, ce dictionnaire a vocation à être généré lors d'un parcours de graphe. Un exemple est donné dans le notebook \"Exemples d'application\". Ici on se contente d'un cas fait à la main.\n",
    "\n",
    "Les forment doivent être choisies parmi 'box', 'polygon', 'ellipse', 'oval', 'circle', 'folder', 'house' \n",
    "'egg', 'triangle' etc.  \n",
    "Voir ici si besoin : https://graphviz.org/doc/info/shapes.html"
   ]
  },
  {
   "cell_type": "code",
   "execution_count": null,
   "metadata": {},
   "outputs": [],
   "source": [
    "ma_liste = {3:[7, 9, 4],\n",
    "            7:[3, 4, 6],\n",
    "            9:[3],\n",
    "            4:[3, 7],\n",
    "            6:[7]}\n",
    "\n",
    "mes_formes  = {3:'folder',\n",
    "               7:'house',\n",
    "               #9:'0', pas d'informations en plus pour le sommet 9 ...\n",
    "               4:'star',\n",
    "               6:'triangle'}\n",
    "\n",
    "v = VizuGraphe('liste', ma_liste, formes = mes_formes)"
   ]
  },
  {
   "cell_type": "markdown",
   "metadata": {},
   "source": [
    "## II.4 : Modifier les étiquettes principales choisies par l'utilisateur \n",
    "\n",
    "Il suffit de spécifier le dictionnaire `etiquettes_principales`. Cette fonctionnalité est là pour pouvoir identifier les sommets grâce à la matrice ou à la liste d'adjacence (avec des identifiants uniques), tout en permettant de mettre des étiquettes identiques à plusieurs sommets différents.\n",
    "\n",
    "**Attention** : si vous choisissez de changer les étiquettes principales des sommets, il faudra modifier toutes les étiquettes."
   ]
  },
  {
   "cell_type": "code",
   "execution_count": null,
   "metadata": {},
   "outputs": [],
   "source": [
    "#pour les matrices de taille N, les clefs des dictionnaires vont de 0 à N-1\n",
    "\n",
    "ma_matrice = [[0, 1, 1, 1, 0],\n",
    "              [1, 0, 0, 1, 1],\n",
    "              [1, 0, 0, 0, 0],\n",
    "              [1, 1, 0, 0, 0],\n",
    "              [0, 1, 0, 0, 0]]\n",
    "\n",
    "mes_etiquettes = {0:'V',\n",
    "                  1:'W',\n",
    "                  2:'X',\n",
    "                  3:'Y',\n",
    "                  4:'Z'}\n",
    "\n",
    "v = VizuGraphe('matrice_bin', ma_matrice, etiquettes_principales = mes_etiquettes)"
   ]
  },
  {
   "cell_type": "markdown",
   "metadata": {},
   "source": [
    "## II.5 : Modifier a posteriori les informations individuelles sur les sommets\n",
    "\n",
    "Alors que les modifications par défaut vues au I.6 s'appliquent à tous les sommets, il est possible de modifier les informations individuelles a posteriori toujours grâce à la méthode `modifier` pour les attributs vus au II :\n",
    "- `etiquettes_secondaires` \n",
    "- `couleurs` \n",
    "- `formes` \n",
    "- `etiquettes_principales`"
   ]
  },
  {
   "cell_type": "code",
   "execution_count": null,
   "metadata": {},
   "outputs": [],
   "source": [
    "mes_couleurs = {0:(1.00, 0.2, 0.75),\n",
    "                2:(0.60, 0.2, 0.75),\n",
    "                3:(0.40, 0.2, 0.75),\n",
    "                4:(0.20, 0.2, 0.75)}\n",
    "\n",
    "v.modifier(couleurs = mes_couleurs)"
   ]
  },
  {
   "cell_type": "markdown",
   "metadata": {},
   "source": [
    "Plus de détails :"
   ]
  },
  {
   "cell_type": "code",
   "execution_count": null,
   "metadata": {},
   "outputs": [],
   "source": [
    "help(VizuGraphe.modifier)"
   ]
  },
  {
   "cell_type": "markdown",
   "metadata": {},
   "source": [
    "<div class = \"alert alert-info\">\n",
    "\n",
    "**Résumé :**\n",
    "    \n",
    "- dessiner un graphique : `v = VizuGraphe( type_structure, structure, **kwargs )`\n",
    "- modifier les paramètres par défaut ou individuels : `v.modifier(**kwargs)`\n",
    "- exporter le graphique : `v.enregistrer(nom_fichier, format_image)`"
   ]
  }
 ],
 "metadata": {
  "kernelspec": {
   "display_name": "Python 3",
   "language": "python",
   "name": "python3"
  },
  "language_info": {
   "codemirror_mode": {
    "name": "ipython",
    "version": 3
   },
   "file_extension": ".py",
   "mimetype": "text/x-python",
   "name": "python",
   "nbconvert_exporter": "python",
   "pygments_lexer": "ipython3",
   "version": "3.8.2"
  }
 },
 "nbformat": 4,
 "nbformat_minor": 4
}

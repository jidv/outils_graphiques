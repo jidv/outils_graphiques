{
 "cells": [
  {
   "cell_type": "markdown",
   "metadata": {},
   "source": [
    "Ce notebook nécessite de disposer du logiciel [graphviz](https://graphviz.org/download/) ainsi que du module graphviz pour python (`pip install graphviz`)."
   ]
  },
  {
   "cell_type": "markdown",
   "metadata": {},
   "source": [
    "#### Installation de graphviz sous Windows\n",
    "\n",
    "- On évitera ce qui est indiqué sur la page [Downloads](https://graphviz.org/download/) de Graphviz.\n",
    "Il vaut mieux préférer l'installeur .msi de la version 2.38 :  \n",
    "\n",
    "**[installeur MSI pour Windows](https://graphviz.org/download/)** \n",
    "\n",
    "- Une fois l'installation du logiciel effectuée, on ajoutera graphviz au Path Windows (pour que python puisse le trouver) :\n",
    "\n",
    "\t- Paramètres > Propriétés Système > Variables d'environnement > Variables système > Path > Modifier > Nouveau \n",
    "\t\n",
    "\t- copier le chemin vers l'installation de graphviz (sans doute \"C:\\Program Files (x86)\\Graphviz2.38\\bin\")\n",
    "\t\n",
    "- Il suffira ensuite d'installer le module permettant à Python de communiquer avec le logiciel Graphviz :\n",
    "\n",
    "\t- `pip install graphviz`"
   ]
  },
  {
   "cell_type": "markdown",
   "metadata": {},
   "source": [
    "# I : Premiers exemples d'utilisation de l'afficheur pour les graphes\n",
    "\n",
    "L'afficheur gère plusieurs représentations de graphes :\n",
    "\n",
    "- `liste` : représentation par liste d'adjacence sous forme d'un dictionnaire dont les valeurs sont des listes,\n",
    "- `liste_pond` (*): représentation par liste d'adjacence pondérée sous forme d'un dictionnaire dont les valeurs sont des dictionnaires,\n",
    "- `matrice_bool` : représentation par matrice de booléens,\n",
    "- `matrice_bin` : représentation par matrice de zéros ou de uns,\n",
    "- `matrice_pond` : représentation par matrice pondérée de scalaires.\n",
    "\n",
    "Il n'y a pas de contrainte sur le type des étiquettes (`int, str, tuple ...`) si ce n'est leur taille qui doit rester concise pour obtenir un affichage correct.\n",
    "\n",
    "(*) : sans doute trop ardu en NSI.\n",
    "\n",
    "\n",
    "\n",
    "\n",
    "**Remarque sur ce que cet afficheur ne fait pas :**  \n",
    "Cet afficheur ne placera pas toujours vos sommets de la façon dont vous l'imaginez a priori : \n",
    "- si vous souhaitez un alignement précis des sommets ou des coordonnées précises pour ceux-ci (par exemple je fais un graphe en forme de bateau), cet afficheur ne le fera pas\n",
    "- si vous souhaitez que le sommet 'A' soit au centre  et le sommet 'Z' en bas à droite, il y a peu de chances que cet afficheur vous  produise cet affichage.\n",
    "\n",
    "Néanmoins :\n",
    "- en fonction du moteur de placement des sommets utilisés, il est possible qu'il vous affiche ce que vous souhaitiez,\n",
    "- dans le cas des graphes planaires, on souhaite éviter d'avoir les arcs qui se croisent car cela rend le graphe illisible. Les moteur `neato` et `fdp` y parviennent dans la majorité des cas,\n",
    "- si votre graphe a vocation à être mis dans un cours ou en exercices, il est possible de l'exporter en svg et de faire les affinages grâce à Inkscape,\n",
    "- si ça ne vous satisfait toujours pas --> LaTeX :-)\n",
    "\n"
   ]
  },
  {
   "cell_type": "code",
   "execution_count": null,
   "metadata": {},
   "outputs": [],
   "source": [
    "from vizu_graphe import VizuGraphe"
   ]
  },
  {
   "cell_type": "markdown",
   "metadata": {},
   "source": [
    "## I.1 : graphe défini par une liste d'adjacence (paramètre `'liste'`)"
   ]
  },
  {
   "cell_type": "code",
   "execution_count": null,
   "metadata": {},
   "outputs": [],
   "source": [
    "ma_liste = {'A':['B', 'C', 'D'],\n",
    "            'B':['A', 'D', 'E'],\n",
    "            'C':['A'],\n",
    "            'D':['A', 'B'],\n",
    "            'E':['B']}\n",
    "\n",
    "v = VizuGraphe('liste', ma_liste)"
   ]
  },
  {
   "cell_type": "markdown",
   "metadata": {},
   "source": [
    "`v` pourra être utilisé ensuite pour redessiner ou enregistrer le graphe.  \n",
    "Si les paramètres de dessin par défaut ne vous satisfont pas, voir le I.6."
   ]
  },
  {
   "cell_type": "markdown",
   "metadata": {},
   "source": [
    "## I.2 : graphe défini par une liste d'adjacence pondérée (paramètre `'liste_pond'`)"
   ]
  },
  {
   "cell_type": "code",
   "execution_count": null,
   "metadata": {},
   "outputs": [],
   "source": [
    "ma_liste = {'A':{'B':3, 'C':10, 'D':14},\n",
    "            'B':{'A':3, 'D':9, 'E':0},\n",
    "            'C':{'A':10},\n",
    "            'D':{'A':14, 'B':9},\n",
    "            'E':{'B':0}}\n",
    "\n",
    "v = VizuGraphe('liste_pond', ma_liste)"
   ]
  },
  {
   "cell_type": "code",
   "execution_count": null,
   "metadata": {},
   "outputs": [],
   "source": []
  },
  {
   "cell_type": "markdown",
   "metadata": {},
   "source": [
    "`v` pourra être utilisé ensuite pour redessiner ou enregistrer le graphe.  \n",
    "Si les paramètres de dessin par défaut ne vous satisfont pas, voir le I.6."
   ]
  },
  {
   "cell_type": "markdown",
   "metadata": {},
   "source": [
    "## I.3 : graphe défini par une matrice de booléens (paramètre `'matrice_bool'`)"
   ]
  },
  {
   "cell_type": "code",
   "execution_count": null,
   "metadata": {},
   "outputs": [],
   "source": [
    "ma_matrice = [[False, True,  True,  True,  False],\n",
    "              [True,  False, False, True,  True ],\n",
    "              [True,  False, False, False, False],\n",
    "              [True,  True,  False, False, False],\n",
    "              [False, True,  False, False, False]]\n",
    "\n",
    "v = VizuGraphe('matrice_bool', ma_matrice)\n",
    "        "
   ]
  },
  {
   "cell_type": "markdown",
   "metadata": {},
   "source": [
    "Avec les matrices de taille `NxN`, les sommets sont par défaut numérotés de `0` à `N-1`.  \n",
    "Nous verrons que l'on peut facilement rajouter des étiquettes quelconques."
   ]
  },
  {
   "cell_type": "markdown",
   "metadata": {},
   "source": [
    "`v` pourra être utilisé ensuite pour redessiner ou enregistrer le graphe.  \n",
    "Si les paramètres de dessin par défaut ne vous satisfont pas, voir le I.6."
   ]
  },
  {
   "cell_type": "markdown",
   "metadata": {},
   "source": [
    "## I.4 : graphe défini par une matrice de zéros et de uns (paramètre `'matrice_bin'`)"
   ]
  },
  {
   "cell_type": "code",
   "execution_count": null,
   "metadata": {},
   "outputs": [],
   "source": [
    "ma_matrice = [[0, 1, 1, 1, 0],\n",
    "              [1, 0, 0, 1, 1],\n",
    "              [1, 0, 0, 0, 0],\n",
    "              [1, 1, 0, 0, 0],\n",
    "              [0, 1, 0, 0, 0]]\n",
    "\n",
    "v = VizuGraphe('matrice_bin', ma_matrice)"
   ]
  },
  {
   "cell_type": "markdown",
   "metadata": {},
   "source": [
    "`v` pourra être utilisé ensuite pour redessiner ou enregistrer le graphe.  \n",
    "Si les paramètres de dessin par défaut ne vous satisfont pas, voir le I.6."
   ]
  },
  {
   "cell_type": "markdown",
   "metadata": {},
   "source": [
    "## I.5 : graphe défini par une matrice pondérée de scalaires (paramètre `'matrice_pond'`)"
   ]
  },
  {
   "cell_type": "code",
   "execution_count": null,
   "metadata": {},
   "outputs": [],
   "source": [
    "ma_matrice = [[0, 0, 4, 0, 0],\n",
    "              [2, 0, 0, 1, 1],\n",
    "              [0, 0, 0, 0, 0],\n",
    "              [3, 6, 0, 0, 0],\n",
    "              [0, 0, 0, 0, 0]]\n",
    "\n",
    "v = VizuGraphe('matrice_pond', ma_matrice, oriente = True)"
   ]
  },
  {
   "cell_type": "markdown",
   "metadata": {},
   "source": [
    "`v` pourra être utilisé ensuite pour redessiner ou enregistrer le graphe.  \n",
    "Si les paramètres de dessin par défaut ne vous satisfont pas, voir le I.6."
   ]
  },
  {
   "cell_type": "markdown",
   "metadata": {},
   "source": [
    "## I.6 : modification a posteriori des paramètres par défaut\n",
    "\n",
    "On peut modifier **a posteriori** les paramètres de dessin par défaut. Voici un exemple avec tous les paramètres accessibles."
   ]
  },
  {
   "cell_type": "code",
   "execution_count": null,
   "metadata": {},
   "outputs": [],
   "source": [
    "v.modifier(label = 'Blah',\n",
    "            #size = 1,                 #à décommenter pour voir\n",
    "            moteur = 'circo',\n",
    "            oriente = True,\n",
    "            node_shape = 'rect',\n",
    "            node_width = 0.35,\n",
    "            node_height = 0.25,\n",
    "            node_color = (0.7, 0.2, 1),\n",
    "            node_fontsize = 12,\n",
    "            #node_small_fontsize = '8',  #ici pas d'étiquette secondaire : sans effet\n",
    "            #node_style = 'bold',        #à décommenter pour voir\n",
    "            edge_fontsize = 20, \n",
    "            edge_style = 'bold',\n",
    "            edge_arrowhead = 'normal',\n",
    "            edge_arrowsize = 0.25,\n",
    "            #reset = False                #inutile si aucune modification auparavant\n",
    "            )"
   ]
  },
  {
   "cell_type": "markdown",
   "metadata": {},
   "source": [
    "Pour plus de détails :"
   ]
  },
  {
   "cell_type": "code",
   "execution_count": null,
   "metadata": {},
   "outputs": [],
   "source": [
    "help(VizuGraphe.modifier)"
   ]
  },
  {
   "cell_type": "markdown",
   "metadata": {},
   "source": [
    "## I.7 : Export des graphiques\n",
    "\n",
    "Les graphiques peuvent être exportés dans différents formats, y compris en vectoriel. Voici quelques formats d'export pris en charge par graphviz :\n",
    "- `svg`\n",
    "- `png`\n",
    "- `pdf`\n",
    "- `tiff`\n",
    "- `jpg`\n",
    "- `ps` \n",
    "\n",
    "On pourra consulter https://graphviz.org/doc/info/output.html pour plus d'informations.\n",
    "\n",
    "**Remarque :** l'export produit également, en plus du fichier graphique, un fichier texte au format `graphviz` (sans extension, mais on pourra utilement rajouter l'extension `.gv`). "
   ]
  },
  {
   "cell_type": "code",
   "execution_count": null,
   "metadata": {},
   "outputs": [],
   "source": [
    "v.enregistrer(nom_fichier = 'mon_premier_export', format_image = 'png')"
   ]
  },
  {
   "cell_type": "markdown",
   "metadata": {},
   "source": [
    "Pour plus de détails :"
   ]
  },
  {
   "cell_type": "code",
   "execution_count": null,
   "metadata": {},
   "outputs": [],
   "source": [
    "help(VizuGraphe.enregistrer)"
   ]
  },
  {
   "cell_type": "markdown",
   "metadata": {},
   "source": [
    "# II : Différencier l'aspect des sommets entre eux"
   ]
  },
  {
   "cell_type": "markdown",
   "metadata": {},
   "source": [
    "Il parait intéressant de pouvoir disposer d'un graphe et de :\n",
    "- pouvoir afficher une information en plus sur chaque sommet (par exemple le numéro d'ordre lors d'un parcours),\n",
    "- pouvoir modifier la couleur des sommets,\n",
    "- pouvoir modifier la forme des sommets,\n",
    "- dans le cas des graphes représentés par des matrices, ajouter des étiquettes différentes des entiers par défaut,\n",
    "\n",
    "\n",
    "**Remarque : limitation dans le cas d'étiquettes identiques**  \n",
    "L'association `couleur <--> sommet` ou `information supplémentaire <--> sommet` ou `forme <--> sommet` est effectuée en se basant sur l'étiquette des sommets. S'il existe des sommets distincts portant la même étiquette, ils se verront attribuer la même chose.  "
   ]
  },
  {
   "cell_type": "markdown",
   "metadata": {},
   "source": [
    "## II.1 : Indiquer des informations individuelles secondaires sur certains sommets"
   ]
  },
  {
   "cell_type": "markdown",
   "metadata": {},
   "source": [
    "Elles sont rajoutées par l'intermédiaire d'un dictionnaire passé en paramètre `etiquettes_secondaires`. En pratique, ce dictionnaire a vocation à être généré lors d'un parcours de graphe. Un exemple est donné dans le notebook \"Exemples d'application\". Ici on se contente d'un cas fait à la main."
   ]
  },
  {
   "cell_type": "code",
   "execution_count": null,
   "metadata": {},
   "outputs": [],
   "source": [
    "ma_liste = {3:[7, 9, 4],\n",
    "            7:[3, 4, 6],\n",
    "            9:[3],\n",
    "            4:[3, 7],\n",
    "            6:[7]}\n",
    "\n",
    "mes_infos_en_plus = {3:'A',\n",
    "                     7:'b',\n",
    "                     #9:'0', pas d'informations en plus pour le sommet 9 ...\n",
    "                     4:'$',\n",
    "                     6:'g'}\n",
    "\n",
    "v = VizuGraphe('liste', ma_liste, etiquettes_secondaires = mes_infos_en_plus)"
   ]
  },
  {
   "cell_type": "markdown",
   "metadata": {},
   "source": [
    "## II.2 : Utiliser des couleurs individuelles sur certains sommets"
   ]
  },
  {
   "cell_type": "markdown",
   "metadata": {},
   "source": [
    "Elles sont modifiées par l'intermédiaire d'un dictionnaire passé en paramètre `couleurs`. En pratique, ce dictionnaire a vocation à être généré lors d'un parcours de graphe. Un exemple est donné dans le notebook \"Exemples d'application\". Ici on se contente d'un cas fait à la main.\n",
    "\n",
    "Les couleurs doivent être au format HSV https://fr.wikipedia.org/wiki/Teinte_Saturation_Valeur  \n",
    "L'intérêt de ce format (discutable) est qu'en jouant uniquement sur le paramètre `H`, on parcourt toutes les couleurs de l'arc en ciel."
   ]
  },
  {
   "cell_type": "code",
   "execution_count": null,
   "metadata": {},
   "outputs": [],
   "source": [
    "#pour les matrices de taille N, les clefs des dictionnaires vont de 0 à N-1\n",
    "\n",
    "ma_matrice = [[0, 1, 1, 1, 0],\n",
    "              [1, 0, 0, 1, 1],\n",
    "              [1, 0, 0, 0, 0],\n",
    "              [1, 1, 0, 0, 0],\n",
    "              [0, 1, 0, 0, 0]]\n",
    "\n",
    "mes_couleurs = {0:(1.00, 0.5, 1),\n",
    "                1:(0.80, 0.5, 1),\n",
    "                #2:(0.60, 0.5, 1),  #pas de modification de couleur pour le sommer 2\n",
    "                3:(0.40, 0.5, 1),\n",
    "                4:(0.20, 0.5, 1)}\n",
    "\n",
    "v = VizuGraphe('matrice_bin', ma_matrice, couleurs = mes_couleurs)"
   ]
  },
  {
   "cell_type": "markdown",
   "metadata": {},
   "source": [
    "## II.3 : Utiliser des formes individuelles sur certains sommets"
   ]
  },
  {
   "cell_type": "markdown",
   "metadata": {},
   "source": [
    "Elles sont modifiées par l'intermédiaire d'un dictionnaire passé en paramètre `formes`. En pratique, ce dictionnaire a vocation à être généré lors d'un parcours de graphe. Un exemple est donné dans le notebook \"Exemples d'application\". Ici on se contente d'un cas fait à la main.\n",
    "\n",
    "Les forment doivent être choisies parmi 'box', 'polygon', 'ellipse', 'oval', 'circle', 'folder', 'house' \n",
    "'egg', 'triangle' etc.  \n",
    "Voir ici si besoin : https://graphviz.org/doc/info/shapes.html"
   ]
  },
  {
   "cell_type": "code",
   "execution_count": null,
   "metadata": {},
   "outputs": [],
   "source": [
    "ma_liste = {3:[7, 9, 4],\n",
    "            7:[3, 4, 6],\n",
    "            9:[3],\n",
    "            4:[3, 7],\n",
    "            6:[7]}\n",
    "\n",
    "mes_formes  = {3:'folder',\n",
    "               7:'house',\n",
    "               #9:'0', pas d'informations en plus pour le sommet 9 ...\n",
    "               4:'star',\n",
    "               6:'triangle'}\n",
    "\n",
    "v = VizuGraphe('liste', ma_liste, formes = mes_formes)"
   ]
  },
  {
   "cell_type": "markdown",
   "metadata": {},
   "source": [
    "## II.4 : Utiliser une matrice avec des étiquette principales choisies par l'utilisateur \n",
    "\n",
    "Il suffit de spécifier le dictionnaire `etiquettes_principales`\n",
    "\n",
    "**Attention : si vous choisissez de renommer les sommets dans le cas des matrices d'adjacence, il faudra renommer TOUS les sommets, c'est à dire modifier toutes les étiquettes. Pour une matrice `NxN`, le dictionnaire doit donc comporter les clefs de `0` à `N-1`.**"
   ]
  },
  {
   "cell_type": "code",
   "execution_count": null,
   "metadata": {},
   "outputs": [],
   "source": [
    "#pour les matrices de taille N, les clefs des dictionnaires vont de 0 à N-1\n",
    "\n",
    "ma_matrice = [[0, 1, 1, 1, 0],\n",
    "              [1, 0, 0, 1, 1],\n",
    "              [1, 0, 0, 0, 0],\n",
    "              [1, 1, 0, 0, 0],\n",
    "              [0, 1, 0, 0, 0]]\n",
    "\n",
    "mes_etiquettes = {0:'V',\n",
    "                  1:'W',\n",
    "                  2:'X',\n",
    "                  3:'Y',\n",
    "                  4:'Z'}\n",
    "\n",
    "v = VizuGraphe('matrice_bin', ma_matrice, etiquettes_principales = mes_etiquettes)"
   ]
  },
  {
   "cell_type": "markdown",
   "metadata": {},
   "source": [
    "## II.5 : Modifier a posteriori les informations individuelles sur les sommets\n",
    "\n",
    "Alors que les modifications par défaut vues au I.6 s'appliquent à tous les sommets, il est possible de modifier les informations individuelles a posteriori toujours grâce à la méthode `modifier` pour les attributs vus au II :\n",
    "- `etiquettes_secondaires` \n",
    "- `couleurs` \n",
    "- `formes` \n",
    "- `etiquettes_principales`"
   ]
  },
  {
   "cell_type": "code",
   "execution_count": null,
   "metadata": {},
   "outputs": [],
   "source": [
    "mes_couleurs = {0:(1.00, 0.2, 0.75),\n",
    "                2:(0.60, 0.2, 0.75),\n",
    "                3:(0.40, 0.2, 0.75),\n",
    "                4:(0.20, 0.2, 0.75)}\n",
    "\n",
    "v.modifier(couleurs = mes_couleurs)"
   ]
  },
  {
   "cell_type": "markdown",
   "metadata": {},
   "source": [
    "Plus de détails :"
   ]
  },
  {
   "cell_type": "code",
   "execution_count": null,
   "metadata": {},
   "outputs": [],
   "source": [
    "help(VizuGraphe.modifier)"
   ]
  },
  {
   "cell_type": "markdown",
   "metadata": {},
   "source": [
    "<div class = \"alert alert-info\">\n",
    "\n",
    "**Résumé :**\n",
    "    \n",
    "- dessiner un graphique : `v = VizuGraphe( type_structure, structure, **kwargs )`\n",
    "- modifier les paramètres par défaut ou individuels : `v.modifier(**kwargs)`\n",
    "- exporter le graphique : `v.enregistrer(nom_fichier, format_image)`"
   ]
  }
 ],
 "metadata": {
  "kernelspec": {
   "display_name": "Python 3",
   "language": "python",
   "name": "python3"
  },
  "language_info": {
   "codemirror_mode": {
    "name": "ipython",
    "version": 3
   },
   "file_extension": ".py",
   "mimetype": "text/x-python",
   "name": "python",
   "nbconvert_exporter": "python",
   "pygments_lexer": "ipython3",
   "version": "3.8.2"
  }
 },
 "nbformat": 4,
 "nbformat_minor": 4
}
